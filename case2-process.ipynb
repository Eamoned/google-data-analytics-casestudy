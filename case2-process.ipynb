{
 "cells": [
  {
   "cell_type": "markdown",
   "id": "f2f8b9dd",
   "metadata": {},
   "source": [
    "### Case Study: How can a Wellness Technology Company Play it Smart?"
   ]
  },
  {
   "cell_type": "markdown",
   "id": "a1e37d07",
   "metadata": {},
   "source": [
    "### In the Process stage we will take steps to ensure the integrity of the data and ensure the data is clean. Once completed the data will be ready for analysis.\n",
    "\n",
    "Key Tasks:\n",
    "\n",
    "- Check the data for errors and missing values\n",
    "- Format columns\n",
    "- Remove duplicates\n",
    "- Merge, transform and manipulate the data so it can be analyzed effectively\n",
    "- Document the cleaning process\n",
    "\n",
    "\n",
    "Data Source:\n",
    "\n",
    "FitBit Fitness Tracker Data: https://www.kaggle.com/datasets/arashnic/fitbit"
   ]
  },
  {
   "cell_type": "code",
   "execution_count": 3,
   "id": "cdca11eb",
   "metadata": {},
   "outputs": [],
   "source": [
    "import pandas as pd\n",
    "import numpy as np\n",
    "from datetime import datetime, date, time\n",
    "import seaborn as sns"
   ]
  },
  {
   "cell_type": "code",
   "execution_count": 4,
   "id": "1360a6d5",
   "metadata": {},
   "outputs": [
    {
     "data": {
      "text/html": [
       "<div>\n",
       "<style scoped>\n",
       "    .dataframe tbody tr th:only-of-type {\n",
       "        vertical-align: middle;\n",
       "    }\n",
       "\n",
       "    .dataframe tbody tr th {\n",
       "        vertical-align: top;\n",
       "    }\n",
       "\n",
       "    .dataframe thead th {\n",
       "        text-align: right;\n",
       "    }\n",
       "</style>\n",
       "<table border=\"1\" class=\"dataframe\">\n",
       "  <thead>\n",
       "    <tr style=\"text-align: right;\">\n",
       "      <th></th>\n",
       "      <th>Id</th>\n",
       "      <th>ActivityDate</th>\n",
       "      <th>TotalSteps</th>\n",
       "      <th>TotalDistance</th>\n",
       "      <th>TrackerDistance</th>\n",
       "      <th>LoggedActivitiesDistance</th>\n",
       "      <th>VeryActiveDistance</th>\n",
       "      <th>ModeratelyActiveDistance</th>\n",
       "      <th>LightActiveDistance</th>\n",
       "      <th>SedentaryActiveDistance</th>\n",
       "      <th>VeryActiveMinutes</th>\n",
       "      <th>FairlyActiveMinutes</th>\n",
       "      <th>LightlyActiveMinutes</th>\n",
       "      <th>SedentaryMinutes</th>\n",
       "      <th>Calories</th>\n",
       "    </tr>\n",
       "  </thead>\n",
       "  <tbody>\n",
       "    <tr>\n",
       "      <th>0</th>\n",
       "      <td>1503960366</td>\n",
       "      <td>4/12/2016</td>\n",
       "      <td>13162</td>\n",
       "      <td>8.50</td>\n",
       "      <td>8.50</td>\n",
       "      <td>0.0</td>\n",
       "      <td>1.88</td>\n",
       "      <td>0.55</td>\n",
       "      <td>6.06</td>\n",
       "      <td>0.0</td>\n",
       "      <td>25</td>\n",
       "      <td>13</td>\n",
       "      <td>328</td>\n",
       "      <td>728</td>\n",
       "      <td>1985</td>\n",
       "    </tr>\n",
       "    <tr>\n",
       "      <th>1</th>\n",
       "      <td>1503960366</td>\n",
       "      <td>4/13/2016</td>\n",
       "      <td>10735</td>\n",
       "      <td>6.97</td>\n",
       "      <td>6.97</td>\n",
       "      <td>0.0</td>\n",
       "      <td>1.57</td>\n",
       "      <td>0.69</td>\n",
       "      <td>4.71</td>\n",
       "      <td>0.0</td>\n",
       "      <td>21</td>\n",
       "      <td>19</td>\n",
       "      <td>217</td>\n",
       "      <td>776</td>\n",
       "      <td>1797</td>\n",
       "    </tr>\n",
       "  </tbody>\n",
       "</table>\n",
       "</div>"
      ],
      "text/plain": [
       "           Id ActivityDate  TotalSteps  TotalDistance  TrackerDistance  \\\n",
       "0  1503960366    4/12/2016       13162           8.50             8.50   \n",
       "1  1503960366    4/13/2016       10735           6.97             6.97   \n",
       "\n",
       "   LoggedActivitiesDistance  VeryActiveDistance  ModeratelyActiveDistance  \\\n",
       "0                       0.0                1.88                      0.55   \n",
       "1                       0.0                1.57                      0.69   \n",
       "\n",
       "   LightActiveDistance  SedentaryActiveDistance  VeryActiveMinutes  \\\n",
       "0                 6.06                      0.0                 25   \n",
       "1                 4.71                      0.0                 21   \n",
       "\n",
       "   FairlyActiveMinutes  LightlyActiveMinutes  SedentaryMinutes  Calories  \n",
       "0                   13                   328               728      1985  \n",
       "1                   19                   217               776      1797  "
      ]
     },
     "execution_count": 4,
     "metadata": {},
     "output_type": "execute_result"
    }
   ],
   "source": [
    "dailyActivity = pd.read_csv(\"data/dailyActivity_merged.csv\")\n",
    "dailyActivity.head(2)"
   ]
  },
  {
   "cell_type": "code",
   "execution_count": 5,
   "id": "99b9dde2",
   "metadata": {},
   "outputs": [
    {
     "name": "stdout",
     "output_type": "stream",
     "text": [
      "<class 'pandas.core.frame.DataFrame'>\n",
      "RangeIndex: 940 entries, 0 to 939\n",
      "Data columns (total 15 columns):\n",
      " #   Column                    Non-Null Count  Dtype  \n",
      "---  ------                    --------------  -----  \n",
      " 0   Id                        940 non-null    int64  \n",
      " 1   ActivityDate              940 non-null    object \n",
      " 2   TotalSteps                940 non-null    int64  \n",
      " 3   TotalDistance             940 non-null    float64\n",
      " 4   TrackerDistance           940 non-null    float64\n",
      " 5   LoggedActivitiesDistance  940 non-null    float64\n",
      " 6   VeryActiveDistance        940 non-null    float64\n",
      " 7   ModeratelyActiveDistance  940 non-null    float64\n",
      " 8   LightActiveDistance       940 non-null    float64\n",
      " 9   SedentaryActiveDistance   940 non-null    float64\n",
      " 10  VeryActiveMinutes         940 non-null    int64  \n",
      " 11  FairlyActiveMinutes       940 non-null    int64  \n",
      " 12  LightlyActiveMinutes      940 non-null    int64  \n",
      " 13  SedentaryMinutes          940 non-null    int64  \n",
      " 14  Calories                  940 non-null    int64  \n",
      "dtypes: float64(7), int64(7), object(1)\n",
      "memory usage: 110.3+ KB\n"
     ]
    }
   ],
   "source": [
    "# variable types\n",
    "dailyActivity.info()"
   ]
  },
  {
   "cell_type": "code",
   "execution_count": 7,
   "id": "732a430a",
   "metadata": {},
   "outputs": [
    {
     "name": "stdout",
     "output_type": "stream",
     "text": [
      "False\n"
     ]
    }
   ],
   "source": [
    "# Missing values\n",
    "\n",
    "# print(dailyActivity.isnull().any())\n",
    "print(dailyActivity.isnull().values.any())\n"
   ]
  },
  {
   "cell_type": "code",
   "execution_count": 8,
   "id": "aad6c7cb",
   "metadata": {},
   "outputs": [
    {
     "name": "stdout",
     "output_type": "stream",
     "text": [
      "31 days of data\n"
     ]
    }
   ],
   "source": [
    "# Number of days in the data range\n",
    "\n",
    "# len(dailyActivity['ActivityDate'].value_counts()) # using value_counts()\n",
    "print(len(dailyActivity[\"ActivityDate\"].unique()), \"days of data\")"
   ]
  },
  {
   "cell_type": "code",
   "execution_count": 7,
   "id": "bc9fa477",
   "metadata": {},
   "outputs": [
    {
     "name": "stdout",
     "output_type": "stream",
     "text": [
      "Unique Ids = 33\n"
     ]
    }
   ],
   "source": [
    "# Number of users\n",
    "print(\"Unique Ids =\",len(dailyActivity[\"Id\"].unique()))"
   ]
  },
  {
   "cell_type": "code",
   "execution_count": 10,
   "id": "9b9fd90d",
   "metadata": {},
   "outputs": [],
   "source": [
    "# Change the Data column to a datetime format\n",
    "dailyActivity[\"ActivityDate\"] = pd.to_datetime(dailyActivity[\"ActivityDate\"])"
   ]
  },
  {
   "cell_type": "code",
   "execution_count": 11,
   "id": "97cec1a3",
   "metadata": {},
   "outputs": [
    {
     "data": {
      "text/html": [
       "<div>\n",
       "<style scoped>\n",
       "    .dataframe tbody tr th:only-of-type {\n",
       "        vertical-align: middle;\n",
       "    }\n",
       "\n",
       "    .dataframe tbody tr th {\n",
       "        vertical-align: top;\n",
       "    }\n",
       "\n",
       "    .dataframe thead th {\n",
       "        text-align: right;\n",
       "    }\n",
       "</style>\n",
       "<table border=\"1\" class=\"dataframe\">\n",
       "  <thead>\n",
       "    <tr style=\"text-align: right;\">\n",
       "      <th></th>\n",
       "      <th>Id</th>\n",
       "      <th>ActivityDate</th>\n",
       "      <th>TotalSteps</th>\n",
       "      <th>TotalDistance</th>\n",
       "      <th>TrackerDistance</th>\n",
       "      <th>LoggedActivitiesDistance</th>\n",
       "      <th>VeryActiveDistance</th>\n",
       "      <th>ModeratelyActiveDistance</th>\n",
       "      <th>LightActiveDistance</th>\n",
       "      <th>SedentaryActiveDistance</th>\n",
       "      <th>VeryActiveMinutes</th>\n",
       "      <th>FairlyActiveMinutes</th>\n",
       "      <th>LightlyActiveMinutes</th>\n",
       "      <th>SedentaryMinutes</th>\n",
       "      <th>Calories</th>\n",
       "    </tr>\n",
       "  </thead>\n",
       "  <tbody>\n",
       "    <tr>\n",
       "      <th>0</th>\n",
       "      <td>1503960366</td>\n",
       "      <td>2016-04-12</td>\n",
       "      <td>13162</td>\n",
       "      <td>8.50</td>\n",
       "      <td>8.50</td>\n",
       "      <td>0.0</td>\n",
       "      <td>1.88</td>\n",
       "      <td>0.55</td>\n",
       "      <td>6.06</td>\n",
       "      <td>0.0</td>\n",
       "      <td>25</td>\n",
       "      <td>13</td>\n",
       "      <td>328</td>\n",
       "      <td>728</td>\n",
       "      <td>1985</td>\n",
       "    </tr>\n",
       "    <tr>\n",
       "      <th>1</th>\n",
       "      <td>1503960366</td>\n",
       "      <td>2016-04-13</td>\n",
       "      <td>10735</td>\n",
       "      <td>6.97</td>\n",
       "      <td>6.97</td>\n",
       "      <td>0.0</td>\n",
       "      <td>1.57</td>\n",
       "      <td>0.69</td>\n",
       "      <td>4.71</td>\n",
       "      <td>0.0</td>\n",
       "      <td>21</td>\n",
       "      <td>19</td>\n",
       "      <td>217</td>\n",
       "      <td>776</td>\n",
       "      <td>1797</td>\n",
       "    </tr>\n",
       "  </tbody>\n",
       "</table>\n",
       "</div>"
      ],
      "text/plain": [
       "           Id ActivityDate  TotalSteps  TotalDistance  TrackerDistance  \\\n",
       "0  1503960366   2016-04-12       13162           8.50             8.50   \n",
       "1  1503960366   2016-04-13       10735           6.97             6.97   \n",
       "\n",
       "   LoggedActivitiesDistance  VeryActiveDistance  ModeratelyActiveDistance  \\\n",
       "0                       0.0                1.88                      0.55   \n",
       "1                       0.0                1.57                      0.69   \n",
       "\n",
       "   LightActiveDistance  SedentaryActiveDistance  VeryActiveMinutes  \\\n",
       "0                 6.06                      0.0                 25   \n",
       "1                 4.71                      0.0                 21   \n",
       "\n",
       "   FairlyActiveMinutes  LightlyActiveMinutes  SedentaryMinutes  Calories  \n",
       "0                   13                   328               728      1985  \n",
       "1                   19                   217               776      1797  "
      ]
     },
     "execution_count": 11,
     "metadata": {},
     "output_type": "execute_result"
    }
   ],
   "source": [
    "dailyActivity.head(2)"
   ]
  },
  {
   "cell_type": "code",
   "execution_count": 10,
   "id": "b1c844b1",
   "metadata": {},
   "outputs": [
    {
     "name": "stdout",
     "output_type": "stream",
     "text": [
      "Dates range from 2016-04-12 00:00:00 and 2016-05-12 00:00:00\n"
     ]
    }
   ],
   "source": [
    "# Date range\n",
    "print(\"Dates range from\", dailyActivity[\"ActivityDate\"].min(), \"and\", dailyActivity[\"ActivityDate\"].max())range is small"
   ]
  },
  {
   "cell_type": "markdown",
   "id": "184415a8",
   "metadata": {},
   "source": [
    "**dailyActivity Obervations:**\n",
    "- Id is an integer. We can change to a category (for plotting purposes) ?\n",
    "- ActivityDate is an object - changed the date to a date format.\n",
    "- There are 33 unique Ids\n",
    "- There is no missing values\n",
    "- Date ranges from 12th April to 12th May\n",
    "- There are 31 days of activity data within the range\n",
    "- TotalDistance & TrackerDistance is almost identical - we will remove TrackerDistance column.\n",
    "- Approximately 4 participants have loggedActivitiesDistance entries, totaling 31 rows only.  \n",
    "\n",
    "\n"
   ]
  },
  {
   "cell_type": "code",
   "execution_count": 12,
   "id": "fc503890",
   "metadata": {},
   "outputs": [],
   "source": [
    "# Remove TrackerDistance column\n",
    "dailyActivity.drop('TrackerDistance', axis=1, inplace=True)"
   ]
  },
  {
   "cell_type": "markdown",
   "id": "cec386cd",
   "metadata": {},
   "source": [
    "==============================================================================================\n"
   ]
  },
  {
   "cell_type": "code",
   "execution_count": 13,
   "id": "716e2df9",
   "metadata": {},
   "outputs": [
    {
     "data": {
      "text/html": [
       "<div>\n",
       "<style scoped>\n",
       "    .dataframe tbody tr th:only-of-type {\n",
       "        vertical-align: middle;\n",
       "    }\n",
       "\n",
       "    .dataframe tbody tr th {\n",
       "        vertical-align: top;\n",
       "    }\n",
       "\n",
       "    .dataframe thead th {\n",
       "        text-align: right;\n",
       "    }\n",
       "</style>\n",
       "<table border=\"1\" class=\"dataframe\">\n",
       "  <thead>\n",
       "    <tr style=\"text-align: right;\">\n",
       "      <th></th>\n",
       "      <th>Id</th>\n",
       "      <th>SleepDay</th>\n",
       "      <th>TotalSleepRecords</th>\n",
       "      <th>TotalMinutesAsleep</th>\n",
       "      <th>TotalTimeInBed</th>\n",
       "    </tr>\n",
       "  </thead>\n",
       "  <tbody>\n",
       "    <tr>\n",
       "      <th>0</th>\n",
       "      <td>1503960366</td>\n",
       "      <td>4/12/2016 12:00:00 AM</td>\n",
       "      <td>1</td>\n",
       "      <td>327</td>\n",
       "      <td>346</td>\n",
       "    </tr>\n",
       "    <tr>\n",
       "      <th>1</th>\n",
       "      <td>1503960366</td>\n",
       "      <td>4/13/2016 12:00:00 AM</td>\n",
       "      <td>2</td>\n",
       "      <td>384</td>\n",
       "      <td>407</td>\n",
       "    </tr>\n",
       "  </tbody>\n",
       "</table>\n",
       "</div>"
      ],
      "text/plain": [
       "           Id               SleepDay  TotalSleepRecords  TotalMinutesAsleep  \\\n",
       "0  1503960366  4/12/2016 12:00:00 AM                  1                 327   \n",
       "1  1503960366  4/13/2016 12:00:00 AM                  2                 384   \n",
       "\n",
       "   TotalTimeInBed  \n",
       "0             346  \n",
       "1             407  "
      ]
     },
     "execution_count": 13,
     "metadata": {},
     "output_type": "execute_result"
    }
   ],
   "source": [
    "# import sleep data\n",
    "sleepDay = pd.read_csv(\"data/sleepDay_merged.csv\")\n",
    "sleepDay.head(2)"
   ]
  },
  {
   "cell_type": "markdown",
   "id": "656b8521",
   "metadata": {},
   "source": [
    "SleepDay Column Details:\n",
    "\n",
    "- SleepDay: Date on which the sleep event started.\n",
    "- TotalSleepRecords: Number of recorded sleep periods for that day. Includes naps > 60min\n",
    "- TotalMinutesAsleep: Total number of minutes classified as being “asleep”.\n",
    "- TotalTimeInBed: Total minutes spent in bed, including asleep restless, and awake, that occurred   during a defined sleep record."
   ]
  },
  {
   "cell_type": "code",
   "execution_count": 14,
   "id": "a7ce5fe3",
   "metadata": {},
   "outputs": [
    {
     "name": "stdout",
     "output_type": "stream",
     "text": [
      "<class 'pandas.core.frame.DataFrame'>\n",
      "RangeIndex: 413 entries, 0 to 412\n",
      "Data columns (total 5 columns):\n",
      " #   Column              Non-Null Count  Dtype \n",
      "---  ------              --------------  ----- \n",
      " 0   Id                  413 non-null    int64 \n",
      " 1   SleepDay            413 non-null    object\n",
      " 2   TotalSleepRecords   413 non-null    int64 \n",
      " 3   TotalMinutesAsleep  413 non-null    int64 \n",
      " 4   TotalTimeInBed      413 non-null    int64 \n",
      "dtypes: int64(4), object(1)\n",
      "memory usage: 16.3+ KB\n"
     ]
    }
   ],
   "source": [
    "sleepDay.info()"
   ]
  },
  {
   "cell_type": "code",
   "execution_count": 14,
   "id": "13dfe122",
   "metadata": {},
   "outputs": [
    {
     "name": "stdout",
     "output_type": "stream",
     "text": [
      "Id                    False\n",
      "SleepDay              False\n",
      "TotalSleepRecords     False\n",
      "TotalMinutesAsleep    False\n",
      "TotalTimeInBed        False\n",
      "dtype: bool\n"
     ]
    }
   ],
   "source": [
    "# NAs\n",
    "print(sleepDay.isnull().any())"
   ]
  },
  {
   "cell_type": "code",
   "execution_count": 15,
   "id": "4ddbc6d5",
   "metadata": {},
   "outputs": [],
   "source": [
    "# Change the Data column to a datetime format\n",
    "sleepDay[\"SleepDay\"] = pd.to_datetime(sleepDay[\"SleepDay\"])"
   ]
  },
  {
   "cell_type": "code",
   "execution_count": 16,
   "id": "42762c12",
   "metadata": {},
   "outputs": [
    {
     "name": "stdout",
     "output_type": "stream",
     "text": [
      "31 days of data\n",
      "Unique Ids = 24\n",
      "Dates range from 2016-04-12 00:00:00 and 2016-05-12 00:00:00\n",
      "No. of duplicates:  3\n"
     ]
    }
   ],
   "source": [
    "# Summary\n",
    "\n",
    "print(len(sleepDay[\"SleepDay\"].unique()), \"days of data\")\n",
    "print(\"Unique Ids =\",len(sleepDay[\"Id\"].unique()))\n",
    "print(\"Dates range from\", sleepDay[\"SleepDay\"].min(), \"and\", sleepDay[\"SleepDay\"].max())\n",
    "print(\"No. of duplicates: \",len(sleepDay[sleepDay.duplicated()]))"
   ]
  },
  {
   "cell_type": "code",
   "execution_count": 17,
   "id": "382f9aed",
   "metadata": {},
   "outputs": [
    {
     "data": {
      "text/html": [
       "<div>\n",
       "<style scoped>\n",
       "    .dataframe tbody tr th:only-of-type {\n",
       "        vertical-align: middle;\n",
       "    }\n",
       "\n",
       "    .dataframe tbody tr th {\n",
       "        vertical-align: top;\n",
       "    }\n",
       "\n",
       "    .dataframe thead th {\n",
       "        text-align: right;\n",
       "    }\n",
       "</style>\n",
       "<table border=\"1\" class=\"dataframe\">\n",
       "  <thead>\n",
       "    <tr style=\"text-align: right;\">\n",
       "      <th></th>\n",
       "      <th>Id</th>\n",
       "      <th>SleepDay</th>\n",
       "      <th>TotalSleepRecords</th>\n",
       "      <th>TotalMinutesAsleep</th>\n",
       "      <th>TotalTimeInBed</th>\n",
       "    </tr>\n",
       "  </thead>\n",
       "  <tbody>\n",
       "    <tr>\n",
       "      <th>161</th>\n",
       "      <td>4388161847</td>\n",
       "      <td>2016-05-05</td>\n",
       "      <td>1</td>\n",
       "      <td>471</td>\n",
       "      <td>495</td>\n",
       "    </tr>\n",
       "    <tr>\n",
       "      <th>223</th>\n",
       "      <td>4702921684</td>\n",
       "      <td>2016-05-07</td>\n",
       "      <td>1</td>\n",
       "      <td>520</td>\n",
       "      <td>543</td>\n",
       "    </tr>\n",
       "    <tr>\n",
       "      <th>380</th>\n",
       "      <td>8378563200</td>\n",
       "      <td>2016-04-25</td>\n",
       "      <td>1</td>\n",
       "      <td>388</td>\n",
       "      <td>402</td>\n",
       "    </tr>\n",
       "  </tbody>\n",
       "</table>\n",
       "</div>"
      ],
      "text/plain": [
       "             Id   SleepDay  TotalSleepRecords  TotalMinutesAsleep  \\\n",
       "161  4388161847 2016-05-05                  1                 471   \n",
       "223  4702921684 2016-05-07                  1                 520   \n",
       "380  8378563200 2016-04-25                  1                 388   \n",
       "\n",
       "     TotalTimeInBed  \n",
       "161             495  \n",
       "223             543  \n",
       "380             402  "
      ]
     },
     "execution_count": 17,
     "metadata": {},
     "output_type": "execute_result"
    }
   ],
   "source": [
    "# Show duplicates\n",
    "sleepDay[sleepDay.duplicated()]"
   ]
  },
  {
   "cell_type": "markdown",
   "id": "289beecc",
   "metadata": {},
   "source": [
    "**Data Observations:** \n",
    "- There are no missing values\n",
    "- sleepDay is an object - changed the date to date format\n",
    "- sleepDay and dailyActivity files both have 31 days of data\n",
    "- RangeIndex: dailyActivity = 940 entries; sleepDay = 413 entries\n",
    "- sleepDay and dailyActivity files both have the same date range (12th April to 12th May)\n",
    "- sleepDaya has less participants (24) than dailyActivity (33)\n",
    "- 3 x duplicates \n",
    "\n",
    "**Next Steps:**\n",
    "- Remove Duplicates\n",
    "- Merge the sleepDay data with dailyActivity - note, there are only 24 participants in sleepDay so if merging with an \"outer join\", there will be 33 participants but 13 participants will not have sleep records.\n",
    "- As another option, we can merge the sleepDay with dailyActivity using \"inner join\" giving us a dataset of only 24 participants.  \n",
    "- Create new cleaned & merged csv files\n"
   ]
  },
  {
   "cell_type": "code",
   "execution_count": 18,
   "id": "02309866",
   "metadata": {},
   "outputs": [],
   "source": [
    "# Remove duplicate rows\n",
    "sleepDay.drop_duplicates(inplace=True)"
   ]
  },
  {
   "cell_type": "code",
   "execution_count": 19,
   "id": "3081409f",
   "metadata": {},
   "outputs": [
    {
     "name": "stdout",
     "output_type": "stream",
     "text": [
      "No. of duplicates:  0\n"
     ]
    }
   ],
   "source": [
    "# Check for NAs\n",
    "print(\"No. of duplicates: \",len(sleepDay[sleepDay.duplicated()]))"
   ]
  },
  {
   "cell_type": "code",
   "execution_count": 20,
   "id": "ccc32ddc",
   "metadata": {},
   "outputs": [],
   "source": [
    "# To standardise date column name, rename the \"SleepDay\" to \"ActivityDate\"\n",
    "sleepDay.rename(columns={'SleepDay':'ActivityDate'}, inplace=True)"
   ]
  },
  {
   "cell_type": "code",
   "execution_count": 21,
   "id": "116af406",
   "metadata": {},
   "outputs": [],
   "source": [
    "# merge the dailyActivity file and the sleepDay file (outer join)\n",
    "act_sleepDay_left = pd.merge(dailyActivity, sleepDay, how='left', on=['Id', 'ActivityDate'])"
   ]
  },
  {
   "cell_type": "code",
   "execution_count": 22,
   "id": "ea44506f",
   "metadata": {},
   "outputs": [
    {
     "data": {
      "text/html": [
       "<div>\n",
       "<style scoped>\n",
       "    .dataframe tbody tr th:only-of-type {\n",
       "        vertical-align: middle;\n",
       "    }\n",
       "\n",
       "    .dataframe tbody tr th {\n",
       "        vertical-align: top;\n",
       "    }\n",
       "\n",
       "    .dataframe thead th {\n",
       "        text-align: right;\n",
       "    }\n",
       "</style>\n",
       "<table border=\"1\" class=\"dataframe\">\n",
       "  <thead>\n",
       "    <tr style=\"text-align: right;\">\n",
       "      <th></th>\n",
       "      <th>Id</th>\n",
       "      <th>ActivityDate</th>\n",
       "      <th>TotalSteps</th>\n",
       "      <th>TotalDistance</th>\n",
       "      <th>LoggedActivitiesDistance</th>\n",
       "      <th>VeryActiveDistance</th>\n",
       "      <th>ModeratelyActiveDistance</th>\n",
       "      <th>LightActiveDistance</th>\n",
       "      <th>SedentaryActiveDistance</th>\n",
       "      <th>VeryActiveMinutes</th>\n",
       "      <th>FairlyActiveMinutes</th>\n",
       "      <th>LightlyActiveMinutes</th>\n",
       "      <th>SedentaryMinutes</th>\n",
       "      <th>Calories</th>\n",
       "      <th>TotalSleepRecords</th>\n",
       "      <th>TotalMinutesAsleep</th>\n",
       "      <th>TotalTimeInBed</th>\n",
       "    </tr>\n",
       "  </thead>\n",
       "  <tbody>\n",
       "    <tr>\n",
       "      <th>0</th>\n",
       "      <td>1503960366</td>\n",
       "      <td>2016-04-12</td>\n",
       "      <td>13162</td>\n",
       "      <td>8.50</td>\n",
       "      <td>0.0</td>\n",
       "      <td>1.88</td>\n",
       "      <td>0.55</td>\n",
       "      <td>6.06</td>\n",
       "      <td>0.0</td>\n",
       "      <td>25</td>\n",
       "      <td>13</td>\n",
       "      <td>328</td>\n",
       "      <td>728</td>\n",
       "      <td>1985</td>\n",
       "      <td>1.0</td>\n",
       "      <td>327.0</td>\n",
       "      <td>346.0</td>\n",
       "    </tr>\n",
       "    <tr>\n",
       "      <th>1</th>\n",
       "      <td>1503960366</td>\n",
       "      <td>2016-04-13</td>\n",
       "      <td>10735</td>\n",
       "      <td>6.97</td>\n",
       "      <td>0.0</td>\n",
       "      <td>1.57</td>\n",
       "      <td>0.69</td>\n",
       "      <td>4.71</td>\n",
       "      <td>0.0</td>\n",
       "      <td>21</td>\n",
       "      <td>19</td>\n",
       "      <td>217</td>\n",
       "      <td>776</td>\n",
       "      <td>1797</td>\n",
       "      <td>2.0</td>\n",
       "      <td>384.0</td>\n",
       "      <td>407.0</td>\n",
       "    </tr>\n",
       "    <tr>\n",
       "      <th>2</th>\n",
       "      <td>1503960366</td>\n",
       "      <td>2016-04-14</td>\n",
       "      <td>10460</td>\n",
       "      <td>6.74</td>\n",
       "      <td>0.0</td>\n",
       "      <td>2.44</td>\n",
       "      <td>0.40</td>\n",
       "      <td>3.91</td>\n",
       "      <td>0.0</td>\n",
       "      <td>30</td>\n",
       "      <td>11</td>\n",
       "      <td>181</td>\n",
       "      <td>1218</td>\n",
       "      <td>1776</td>\n",
       "      <td>NaN</td>\n",
       "      <td>NaN</td>\n",
       "      <td>NaN</td>\n",
       "    </tr>\n",
       "  </tbody>\n",
       "</table>\n",
       "</div>"
      ],
      "text/plain": [
       "           Id ActivityDate  TotalSteps  TotalDistance  \\\n",
       "0  1503960366   2016-04-12       13162           8.50   \n",
       "1  1503960366   2016-04-13       10735           6.97   \n",
       "2  1503960366   2016-04-14       10460           6.74   \n",
       "\n",
       "   LoggedActivitiesDistance  VeryActiveDistance  ModeratelyActiveDistance  \\\n",
       "0                       0.0                1.88                      0.55   \n",
       "1                       0.0                1.57                      0.69   \n",
       "2                       0.0                2.44                      0.40   \n",
       "\n",
       "   LightActiveDistance  SedentaryActiveDistance  VeryActiveMinutes  \\\n",
       "0                 6.06                      0.0                 25   \n",
       "1                 4.71                      0.0                 21   \n",
       "2                 3.91                      0.0                 30   \n",
       "\n",
       "   FairlyActiveMinutes  LightlyActiveMinutes  SedentaryMinutes  Calories  \\\n",
       "0                   13                   328               728      1985   \n",
       "1                   19                   217               776      1797   \n",
       "2                   11                   181              1218      1776   \n",
       "\n",
       "   TotalSleepRecords  TotalMinutesAsleep  TotalTimeInBed  \n",
       "0                1.0               327.0           346.0  \n",
       "1                2.0               384.0           407.0  \n",
       "2                NaN                 NaN             NaN  "
      ]
     },
     "execution_count": 22,
     "metadata": {},
     "output_type": "execute_result"
    }
   ],
   "source": [
    "act_sleepDay_left.head(3)"
   ]
  },
  {
   "cell_type": "code",
   "execution_count": 23,
   "id": "05dcfa65",
   "metadata": {},
   "outputs": [
    {
     "data": {
      "application/javascript": [
       "\n",
       "        if (window._pyforest_update_imports_cell) { window._pyforest_update_imports_cell('import matplotlib.pyplot as plt'); }\n",
       "    "
      ],
      "text/plain": [
       "<IPython.core.display.Javascript object>"
      ]
     },
     "metadata": {},
     "output_type": "display_data"
    },
    {
     "data": {
      "application/javascript": [
       "\n",
       "        if (window._pyforest_update_imports_cell) { window._pyforest_update_imports_cell('import matplotlib.pyplot as plt'); }\n",
       "    "
      ],
      "text/plain": [
       "<IPython.core.display.Javascript object>"
      ]
     },
     "metadata": {},
     "output_type": "display_data"
    },
    {
     "data": {
      "image/png": "[encoded data removed]",
      "text/plain": [
       "<Figure size 1152x360 with 1 Axes>"
      ]
     },
     "metadata": {
      "needs_background": "light"
     },
     "output_type": "display_data"
    }
   ],
   "source": [
    "# Check for NAs\n",
    "plt.figure(figsize=(16, 5))\n",
    "sns.heatmap(act_sleepDay_left.isnull(),yticklabels=False,cbar=False,cmap='viridis')\n",
    "plt.show()"
   ]
  },
  {
   "cell_type": "code",
   "execution_count": 24,
   "id": "bf4dc3fc",
   "metadata": {},
   "outputs": [
    {
     "name": "stdout",
     "output_type": "stream",
     "text": [
      "TotalSleepRecords 0.564  % missing values\n",
      "TotalMinutesAsleep 0.564  % missing values\n",
      "TotalTimeInBed 0.564  % missing values\n"
     ]
    }
   ],
   "source": [
    "# Missing values after merge\n",
    "vars_with_na = [var for var in act_sleepDay_left.columns if act_sleepDay_left[var].isnull().sum()]\n",
    "for var in vars_with_na:\n",
    "    print(var, np.round(act_sleepDay_left[var].isnull().mean(), 3),  ' % missing values')"
   ]
  },
  {
   "cell_type": "code",
   "execution_count": 24,
   "id": "41d88ac8",
   "metadata": {},
   "outputs": [],
   "source": [
    "# merge the dailyActivity file and the sleepDay file (inner join)\n",
    "act_sleepDay_inner = pd.merge(dailyActivity, sleepDay, how='inner', on=['Id', 'ActivityDate'])"
   ]
  },
  {
   "cell_type": "code",
   "execution_count": 25,
   "id": "695b8d9c",
   "metadata": {},
   "outputs": [
    {
     "data": {
      "application/javascript": [
       "\n",
       "        if (window._pyforest_update_imports_cell) { window._pyforest_update_imports_cell('import matplotlib.pyplot as plt'); }\n",
       "    "
      ],
      "text/plain": [
       "<IPython.core.display.Javascript object>"
      ]
     },
     "metadata": {},
     "output_type": "display_data"
    },
    {
     "data": {
      "application/javascript": [
       "\n",
       "        if (window._pyforest_update_imports_cell) { window._pyforest_update_imports_cell('import matplotlib.pyplot as plt'); }\n",
       "    "
      ],
      "text/plain": [
       "<IPython.core.display.Javascript object>"
      ]
     },
     "metadata": {},
     "output_type": "display_data"
    },
    {
     "data": {
      "image/png": "[encoded data removed]",
      "text/plain": [
       "<Figure size 1152x360 with 1 Axes>"
      ]
     },
     "metadata": {
      "needs_background": "light"
     },
     "output_type": "display_data"
    }
   ],
   "source": [
    "# Check for NAs\n",
    "plt.figure(figsize=(16, 5))\n",
    "sns.heatmap(act_sleepDay_inner.isnull(),yticklabels=False,cbar=False,cmap='viridis')\n",
    "plt.show()"
   ]
  },
  {
   "cell_type": "code",
   "execution_count": 26,
   "id": "0103dc85",
   "metadata": {},
   "outputs": [],
   "source": [
    "# Create new cleaned & merged csv files\n",
    "act_sleepDay_left.to_csv(\"clean_data/act_sleepDay_left.csv\", index=False)\n",
    "act_sleepDay_inner.to_csv(\"clean_data/act_sleepDay_inner.csv\", index=False)\n",
    "dailyActivity.to_csv(\"clean_data/dailyActivity.csv\", index=False)\n",
    "sleepDay.to_csv(\"clean_data/sleepDay.csv\", index=False)"
   ]
  },
  {
   "cell_type": "markdown",
   "id": "c9ce74d5",
   "metadata": {},
   "source": [
    "***Check out Hourly files***\n"
   ]
  },
  {
   "cell_type": "code",
   "execution_count": 27,
   "id": "06d8c36a",
   "metadata": {},
   "outputs": [
    {
     "name": "stdout",
     "output_type": "stream",
     "text": [
      "           Id           ActivityHour  Calories\n",
      "0  1503960366  4/12/2016 12:00:00 AM        81\n",
      "1  1503960366   4/12/2016 1:00:00 AM        61\n"
     ]
    }
   ],
   "source": [
    "# import file\n",
    "hrCals = pd.read_csv(\"data/hourlyCalories_merged.csv\")\n",
    "print(hrCals.head(2))"
   ]
  },
  {
   "cell_type": "code",
   "execution_count": 28,
   "id": "717778ab",
   "metadata": {},
   "outputs": [
    {
     "name": "stdout",
     "output_type": "stream",
     "text": [
      "<class 'pandas.core.frame.DataFrame'>\n",
      "RangeIndex: 22099 entries, 0 to 22098\n",
      "Data columns (total 3 columns):\n",
      " #   Column        Non-Null Count  Dtype \n",
      "---  ------        --------------  ----- \n",
      " 0   Id            22099 non-null  int64 \n",
      " 1   ActivityHour  22099 non-null  object\n",
      " 2   Calories      22099 non-null  int64 \n",
      "dtypes: int64(2), object(1)\n",
      "memory usage: 518.1+ KB\n"
     ]
    }
   ],
   "source": [
    "hrCals.info()"
   ]
  },
  {
   "cell_type": "code",
   "execution_count": 29,
   "id": "60fc29f5",
   "metadata": {},
   "outputs": [
    {
     "data": {
      "text/plain": [
       "Id              False\n",
       "ActivityHour    False\n",
       "Calories        False\n",
       "dtype: bool"
      ]
     },
     "execution_count": 29,
     "metadata": {},
     "output_type": "execute_result"
    }
   ],
   "source": [
    "hrCals.isnull().any()"
   ]
  },
  {
   "cell_type": "code",
   "execution_count": 30,
   "id": "f6c47d84",
   "metadata": {},
   "outputs": [
    {
     "name": "stdout",
     "output_type": "stream",
     "text": [
      "           Id           ActivityHour  TotalIntensity  AverageIntensity\n",
      "0  1503960366  4/12/2016 12:00:00 AM              20          0.333333\n",
      "1  1503960366   4/12/2016 1:00:00 AM               8          0.133333\n"
     ]
    }
   ],
   "source": [
    "# import Hourly Intensities\n",
    "hrIntens = pd.read_csv(\"data/hourlyIntensities_merged.csv\")\n",
    "print(hrIntens.head(2))"
   ]
  },
  {
   "cell_type": "markdown",
   "id": "988a915c",
   "metadata": {},
   "source": [
    "Hourly Intensities column details:\n",
    "\n",
    "- AverageIntensity = Average intensity state exhibited during that\n",
    "hour (TotalIntensity for that ActivityHour divided\n",
    "by 60)\n",
    "- TotalIntensity = Value calculated by adding all the minute-level\n",
    "intensity values that occurred within the hour\n"
   ]
  },
  {
   "cell_type": "code",
   "execution_count": 31,
   "id": "b29c0e35",
   "metadata": {},
   "outputs": [
    {
     "name": "stdout",
     "output_type": "stream",
     "text": [
      "<class 'pandas.core.frame.DataFrame'>\n",
      "RangeIndex: 22099 entries, 0 to 22098\n",
      "Data columns (total 4 columns):\n",
      " #   Column            Non-Null Count  Dtype  \n",
      "---  ------            --------------  -----  \n",
      " 0   Id                22099 non-null  int64  \n",
      " 1   ActivityHour      22099 non-null  object \n",
      " 2   TotalIntensity    22099 non-null  int64  \n",
      " 3   AverageIntensity  22099 non-null  float64\n",
      "dtypes: float64(1), int64(2), object(1)\n",
      "memory usage: 690.7+ KB\n"
     ]
    }
   ],
   "source": [
    "hrIntens.info()"
   ]
  },
  {
   "cell_type": "code",
   "execution_count": 32,
   "id": "b77345b8",
   "metadata": {},
   "outputs": [
    {
     "data": {
      "text/plain": [
       "Id                  False\n",
       "ActivityHour        False\n",
       "TotalIntensity      False\n",
       "AverageIntensity    False\n",
       "dtype: bool"
      ]
     },
     "execution_count": 32,
     "metadata": {},
     "output_type": "execute_result"
    }
   ],
   "source": [
    "hrIntens.isnull().any()"
   ]
  },
  {
   "cell_type": "code",
   "execution_count": 33,
   "id": "14a2c622",
   "metadata": {},
   "outputs": [
    {
     "name": "stdout",
     "output_type": "stream",
     "text": [
      "           Id           ActivityHour  StepTotal\n",
      "0  1503960366  4/12/2016 12:00:00 AM        373\n",
      "1  1503960366   4/12/2016 1:00:00 AM        160\n"
     ]
    }
   ],
   "source": [
    "# import Hourly Steps\n",
    "hrSteps = pd.read_csv(\"data/hourlySteps_merged.csv\")\n",
    "print(hrSteps.head(2))"
   ]
  },
  {
   "cell_type": "code",
   "execution_count": 34,
   "id": "658304b6",
   "metadata": {},
   "outputs": [
    {
     "name": "stdout",
     "output_type": "stream",
     "text": [
      "<class 'pandas.core.frame.DataFrame'>\n",
      "RangeIndex: 22099 entries, 0 to 22098\n",
      "Data columns (total 3 columns):\n",
      " #   Column        Non-Null Count  Dtype \n",
      "---  ------        --------------  ----- \n",
      " 0   Id            22099 non-null  int64 \n",
      " 1   ActivityHour  22099 non-null  object\n",
      " 2   StepTotal     22099 non-null  int64 \n",
      "dtypes: int64(2), object(1)\n",
      "memory usage: 518.1+ KB\n"
     ]
    }
   ],
   "source": [
    "hrSteps.info()"
   ]
  },
  {
   "cell_type": "code",
   "execution_count": 35,
   "id": "b36f3170",
   "metadata": {},
   "outputs": [
    {
     "data": {
      "text/plain": [
       "Id              False\n",
       "ActivityHour    False\n",
       "StepTotal       False\n",
       "dtype: bool"
      ]
     },
     "execution_count": 35,
     "metadata": {},
     "output_type": "execute_result"
    }
   ],
   "source": [
    "hrSteps.isnull().any()"
   ]
  },
  {
   "cell_type": "code",
   "execution_count": 36,
   "id": "c8697031",
   "metadata": {},
   "outputs": [
    {
     "name": "stdout",
     "output_type": "stream",
     "text": [
      "Calories has 33 unique Ids\n",
      "Intensity has 33 unique Ids\n",
      "Steps has 33 unique Ids\n"
     ]
    }
   ],
   "source": [
    "# Number of Users\n",
    "print(\"Calories has\", len(hrCals['Id'].unique()), \"unique Ids\")\n",
    "print(\"Intensity has\", len(hrIntens['Id'].unique()), \"unique Ids\")\n",
    "print(\"Steps has\", len(hrSteps['Id'].unique()), \"unique Ids\")"
   ]
  },
  {
   "cell_type": "code",
   "execution_count": 37,
   "id": "72d91d6e",
   "metadata": {},
   "outputs": [
    {
     "name": "stdout",
     "output_type": "stream",
     "text": [
      "Calories has 736 observations\n",
      "Intensity has 736 observations\n",
      "Steps has 736 observations\n"
     ]
    }
   ],
   "source": [
    "# Number of observations\n",
    "print(\"Calories has\", len(hrCals[\"ActivityHour\"].unique()), \"observations\")\n",
    "print(\"Intensity has\", len(hrIntens[\"ActivityHour\"].unique()), \"observations\")\n",
    "print(\"Steps has\", len(hrSteps[\"ActivityHour\"].unique()), \"observations\")"
   ]
  },
  {
   "cell_type": "code",
   "execution_count": 38,
   "id": "ebc03057",
   "metadata": {},
   "outputs": [],
   "source": [
    "# Change Date object to Date format\n",
    "hrCals[\"ActivityHour\"] = pd.to_datetime(hrCals[\"ActivityHour\"])\n",
    "hrIntens[\"ActivityHour\"] = pd.to_datetime(hrIntens[\"ActivityHour\"])\n",
    "hrSteps[\"ActivityHour\"] = pd.to_datetime(hrSteps[\"ActivityHour\"])"
   ]
  },
  {
   "cell_type": "code",
   "execution_count": 39,
   "id": "d5ed03b4",
   "metadata": {
    "scrolled": true
   },
   "outputs": [
    {
     "name": "stdout",
     "output_type": "stream",
     "text": [
      "For Calories dates range from 2016-04-12 00:00:00 and 2016-05-12 15:00:00\n",
      "For Intensity dates range from 2016-04-12 00:00:00 and 2016-05-12 15:00:00\n",
      "For Steps dates range from 2016-04-12 00:00:00 and 2016-05-12 15:00:00\n"
     ]
    }
   ],
   "source": [
    "# Date range\n",
    "print(\"For Calories dates range from\", hrCals[\"ActivityHour\"].min(), \"and\", hrCals[\"ActivityHour\"].max())\n",
    "print(\"For Intensity dates range from\", hrIntens[\"ActivityHour\"].min(), \"and\", hrIntens[\"ActivityHour\"].max())\n",
    "print(\"For Steps dates range from\", hrSteps[\"ActivityHour\"].min(), \"and\", hrSteps[\"ActivityHour\"].max())"
   ]
  },
  {
   "cell_type": "markdown",
   "id": "e7a704ee",
   "metadata": {},
   "source": [
    "**Data Observations:**\n",
    "For Calories, Intensity and Steps files:\n",
    "- Id is an integer. We can change to a category (for plotting purposes)\n",
    "- ActivityHour is an object. Changed to a date object.\n",
    "- There are 33 unique Ids in all hourly files\n",
    "- There are no missing values\n",
    "- Date ranges from 12th April to 12th May (2016)\n",
    "- There are 736 observations within the date range for each Id\n",
    "\n",
    "**Next:**\n",
    "- Merge the Calaries, Intensity and Steps hourly files\n",
    "- Check for duplicates\n",
    "- Create new cleaned & merged csv file\n",
    "\n"
   ]
  },
  {
   "cell_type": "markdown",
   "id": "e548b262",
   "metadata": {},
   "source": [
    "***Merge the hourly Calories, Intensity and Steps datasets***"
   ]
  },
  {
   "cell_type": "code",
   "execution_count": 40,
   "id": "96bf58ae",
   "metadata": {},
   "outputs": [],
   "source": [
    "# Merge Calories and Intensity\n",
    "hr_merge = pd.merge(hrCals, hrIntens, how='inner', on=['Id', 'ActivityHour'])"
   ]
  },
  {
   "cell_type": "code",
   "execution_count": 41,
   "id": "e77e8a83",
   "metadata": {},
   "outputs": [
    {
     "data": {
      "text/html": [
       "<div>\n",
       "<style scoped>\n",
       "    .dataframe tbody tr th:only-of-type {\n",
       "        vertical-align: middle;\n",
       "    }\n",
       "\n",
       "    .dataframe tbody tr th {\n",
       "        vertical-align: top;\n",
       "    }\n",
       "\n",
       "    .dataframe thead th {\n",
       "        text-align: right;\n",
       "    }\n",
       "</style>\n",
       "<table border=\"1\" class=\"dataframe\">\n",
       "  <thead>\n",
       "    <tr style=\"text-align: right;\">\n",
       "      <th></th>\n",
       "      <th>Id</th>\n",
       "      <th>ActivityHour</th>\n",
       "      <th>Calories</th>\n",
       "      <th>TotalIntensity</th>\n",
       "      <th>AverageIntensity</th>\n",
       "    </tr>\n",
       "  </thead>\n",
       "  <tbody>\n",
       "    <tr>\n",
       "      <th>0</th>\n",
       "      <td>1503960366</td>\n",
       "      <td>2016-04-12 00:00:00</td>\n",
       "      <td>81</td>\n",
       "      <td>20</td>\n",
       "      <td>0.333333</td>\n",
       "    </tr>\n",
       "    <tr>\n",
       "      <th>1</th>\n",
       "      <td>1503960366</td>\n",
       "      <td>2016-04-12 01:00:00</td>\n",
       "      <td>61</td>\n",
       "      <td>8</td>\n",
       "      <td>0.133333</td>\n",
       "    </tr>\n",
       "  </tbody>\n",
       "</table>\n",
       "</div>"
      ],
      "text/plain": [
       "           Id        ActivityHour  Calories  TotalIntensity  AverageIntensity\n",
       "0  1503960366 2016-04-12 00:00:00        81              20          0.333333\n",
       "1  1503960366 2016-04-12 01:00:00        61               8          0.133333"
      ]
     },
     "execution_count": 41,
     "metadata": {},
     "output_type": "execute_result"
    }
   ],
   "source": [
    "hr_merge.head(2)"
   ]
  },
  {
   "cell_type": "code",
   "execution_count": 42,
   "id": "caac20cd",
   "metadata": {},
   "outputs": [],
   "source": [
    "# merge Steps\n",
    "hr_merge = pd.merge(hr_merge, hrSteps, how='inner', on=['Id', 'ActivityHour'])"
   ]
  },
  {
   "cell_type": "code",
   "execution_count": 44,
   "id": "bd3b2acb",
   "metadata": {},
   "outputs": [
    {
     "data": {
      "text/html": [
       "<div>\n",
       "<style scoped>\n",
       "    .dataframe tbody tr th:only-of-type {\n",
       "        vertical-align: middle;\n",
       "    }\n",
       "\n",
       "    .dataframe tbody tr th {\n",
       "        vertical-align: top;\n",
       "    }\n",
       "\n",
       "    .dataframe thead th {\n",
       "        text-align: right;\n",
       "    }\n",
       "</style>\n",
       "<table border=\"1\" class=\"dataframe\">\n",
       "  <thead>\n",
       "    <tr style=\"text-align: right;\">\n",
       "      <th></th>\n",
       "      <th>Id</th>\n",
       "      <th>ActivityHour</th>\n",
       "      <th>Calories</th>\n",
       "      <th>TotalIntensity</th>\n",
       "      <th>AverageIntensity</th>\n",
       "      <th>StepTotal</th>\n",
       "    </tr>\n",
       "  </thead>\n",
       "  <tbody>\n",
       "    <tr>\n",
       "      <th>0</th>\n",
       "      <td>1503960366</td>\n",
       "      <td>2016-04-12 00:00:00</td>\n",
       "      <td>81</td>\n",
       "      <td>20</td>\n",
       "      <td>0.333333</td>\n",
       "      <td>373</td>\n",
       "    </tr>\n",
       "    <tr>\n",
       "      <th>1</th>\n",
       "      <td>1503960366</td>\n",
       "      <td>2016-04-12 01:00:00</td>\n",
       "      <td>61</td>\n",
       "      <td>8</td>\n",
       "      <td>0.133333</td>\n",
       "      <td>160</td>\n",
       "    </tr>\n",
       "    <tr>\n",
       "      <th>2</th>\n",
       "      <td>1503960366</td>\n",
       "      <td>2016-04-12 02:00:00</td>\n",
       "      <td>59</td>\n",
       "      <td>7</td>\n",
       "      <td>0.116667</td>\n",
       "      <td>151</td>\n",
       "    </tr>\n",
       "  </tbody>\n",
       "</table>\n",
       "</div>"
      ],
      "text/plain": [
       "           Id        ActivityHour  Calories  TotalIntensity  AverageIntensity  \\\n",
       "0  1503960366 2016-04-12 00:00:00        81              20          0.333333   \n",
       "1  1503960366 2016-04-12 01:00:00        61               8          0.133333   \n",
       "2  1503960366 2016-04-12 02:00:00        59               7          0.116667   \n",
       "\n",
       "   StepTotal  \n",
       "0        373  \n",
       "1        160  \n",
       "2        151  "
      ]
     },
     "execution_count": 44,
     "metadata": {},
     "output_type": "execute_result"
    }
   ],
   "source": [
    "hr_merge.head(3)"
   ]
  },
  {
   "cell_type": "markdown",
   "id": "136ac1c9",
   "metadata": {},
   "source": [
    "***Check for duplicates***\n"
   ]
  },
  {
   "cell_type": "code",
   "execution_count": 45,
   "id": "6d02f40b",
   "metadata": {},
   "outputs": [
    {
     "name": "stdout",
     "output_type": "stream",
     "text": [
      "No. of duplicates:  0\n"
     ]
    }
   ],
   "source": [
    "print(\"No. of duplicates: \",len(hr_merge[hr_merge.duplicated()]))"
   ]
  },
  {
   "cell_type": "code",
   "execution_count": 46,
   "id": "0eba0fae",
   "metadata": {},
   "outputs": [],
   "source": [
    "# Generate clean csv file\n",
    "hr_merge.to_csv(\"clean_data/hr_merge.csv\")\n",
    "hrCals.to_csv(\"clean_data/hrCals.csv\")\n",
    "hrIntens.to_csv(\"clean_data/hrIntens.csv\")\n",
    "hrSteps.to_csv(\"clean_data/hrSteps.csv\")"
   ]
  },
  {
   "cell_type": "markdown",
   "id": "0be206b8",
   "metadata": {},
   "source": [
    "**Check out Minute Files**"
   ]
  },
  {
   "cell_type": "code",
   "execution_count": 47,
   "id": "92d16c59",
   "metadata": {},
   "outputs": [
    {
     "data": {
      "text/html": [
       "<div>\n",
       "<style scoped>\n",
       "    .dataframe tbody tr th:only-of-type {\n",
       "        vertical-align: middle;\n",
       "    }\n",
       "\n",
       "    .dataframe tbody tr th {\n",
       "        vertical-align: top;\n",
       "    }\n",
       "\n",
       "    .dataframe thead th {\n",
       "        text-align: right;\n",
       "    }\n",
       "</style>\n",
       "<table border=\"1\" class=\"dataframe\">\n",
       "  <thead>\n",
       "    <tr style=\"text-align: right;\">\n",
       "      <th></th>\n",
       "      <th>Id</th>\n",
       "      <th>ActivityMinute</th>\n",
       "      <th>Calories</th>\n",
       "    </tr>\n",
       "  </thead>\n",
       "  <tbody>\n",
       "    <tr>\n",
       "      <th>0</th>\n",
       "      <td>1503960366</td>\n",
       "      <td>4/12/2016 12:00:00 AM</td>\n",
       "      <td>0.7865</td>\n",
       "    </tr>\n",
       "    <tr>\n",
       "      <th>1</th>\n",
       "      <td>1503960366</td>\n",
       "      <td>4/12/2016 12:01:00 AM</td>\n",
       "      <td>0.7865</td>\n",
       "    </tr>\n",
       "  </tbody>\n",
       "</table>\n",
       "</div>"
      ],
      "text/plain": [
       "           Id         ActivityMinute  Calories\n",
       "0  1503960366  4/12/2016 12:00:00 AM    0.7865\n",
       "1  1503960366  4/12/2016 12:01:00 AM    0.7865"
      ]
     },
     "execution_count": 47,
     "metadata": {},
     "output_type": "execute_result"
    }
   ],
   "source": [
    "# import Minutes Calories\n",
    "minCals = pd.read_csv(\"data/minuteCaloriesNarrow_merged.csv\")\n",
    "minCals.head(2)"
   ]
  },
  {
   "cell_type": "code",
   "execution_count": 48,
   "id": "7afd243a",
   "metadata": {},
   "outputs": [
    {
     "name": "stdout",
     "output_type": "stream",
     "text": [
      "<class 'pandas.core.frame.DataFrame'>\n",
      "RangeIndex: 1325580 entries, 0 to 1325579\n",
      "Data columns (total 3 columns):\n",
      " #   Column          Non-Null Count    Dtype  \n",
      "---  ------          --------------    -----  \n",
      " 0   Id              1325580 non-null  int64  \n",
      " 1   ActivityMinute  1325580 non-null  object \n",
      " 2   Calories        1325580 non-null  float64\n",
      "dtypes: float64(1), int64(1), object(1)\n",
      "memory usage: 30.3+ MB\n"
     ]
    }
   ],
   "source": [
    "minCals.info()"
   ]
  },
  {
   "cell_type": "code",
   "execution_count": 49,
   "id": "2b9e70fb",
   "metadata": {},
   "outputs": [
    {
     "name": "stdout",
     "output_type": "stream",
     "text": [
      "Missing values:  0\n",
      "No. of duplicates:  0\n"
     ]
    }
   ],
   "source": [
    "print(\"Missing values: \",minCals.isnull().values.sum())\n",
    "print(\"No. of duplicates: \",len(minCals[minCals.duplicated()]))"
   ]
  },
  {
   "cell_type": "code",
   "execution_count": 51,
   "id": "6acfe425",
   "metadata": {},
   "outputs": [
    {
     "data": {
      "text/html": [
       "<div>\n",
       "<style scoped>\n",
       "    .dataframe tbody tr th:only-of-type {\n",
       "        vertical-align: middle;\n",
       "    }\n",
       "\n",
       "    .dataframe tbody tr th {\n",
       "        vertical-align: top;\n",
       "    }\n",
       "\n",
       "    .dataframe thead th {\n",
       "        text-align: right;\n",
       "    }\n",
       "</style>\n",
       "<table border=\"1\" class=\"dataframe\">\n",
       "  <thead>\n",
       "    <tr style=\"text-align: right;\">\n",
       "      <th></th>\n",
       "      <th>Id</th>\n",
       "      <th>ActivityMinute</th>\n",
       "      <th>Intensity</th>\n",
       "    </tr>\n",
       "  </thead>\n",
       "  <tbody>\n",
       "    <tr>\n",
       "      <th>0</th>\n",
       "      <td>1503960366</td>\n",
       "      <td>4/12/2016 12:00:00 AM</td>\n",
       "      <td>0</td>\n",
       "    </tr>\n",
       "    <tr>\n",
       "      <th>1</th>\n",
       "      <td>1503960366</td>\n",
       "      <td>4/12/2016 12:01:00 AM</td>\n",
       "      <td>0</td>\n",
       "    </tr>\n",
       "  </tbody>\n",
       "</table>\n",
       "</div>"
      ],
      "text/plain": [
       "           Id         ActivityMinute  Intensity\n",
       "0  1503960366  4/12/2016 12:00:00 AM          0\n",
       "1  1503960366  4/12/2016 12:01:00 AM          0"
      ]
     },
     "execution_count": 51,
     "metadata": {},
     "output_type": "execute_result"
    }
   ],
   "source": [
    "# Import Minutes Intensities\n",
    "minIntens = pd.read_csv(\"data/minuteIntensitiesNarrow_merged.csv\")\n",
    "minIntens.head(2)"
   ]
  },
  {
   "cell_type": "markdown",
   "id": "e873dfd0",
   "metadata": {},
   "source": [
    "Notes: Intensity value:\n",
    "    \n",
    "0 = Sedentary\n",
    "1 = Light\n",
    "2 = Moderate\n",
    "3 = Very Active"
   ]
  },
  {
   "cell_type": "code",
   "execution_count": 52,
   "id": "bc9bf65b",
   "metadata": {},
   "outputs": [
    {
     "name": "stdout",
     "output_type": "stream",
     "text": [
      "<class 'pandas.core.frame.DataFrame'>\n",
      "RangeIndex: 1325580 entries, 0 to 1325579\n",
      "Data columns (total 3 columns):\n",
      " #   Column          Non-Null Count    Dtype \n",
      "---  ------          --------------    ----- \n",
      " 0   Id              1325580 non-null  int64 \n",
      " 1   ActivityMinute  1325580 non-null  object\n",
      " 2   Intensity       1325580 non-null  int64 \n",
      "dtypes: int64(2), object(1)\n",
      "memory usage: 30.3+ MB\n"
     ]
    }
   ],
   "source": [
    "minIntens.info()"
   ]
  },
  {
   "cell_type": "code",
   "execution_count": 53,
   "id": "67879d8f",
   "metadata": {},
   "outputs": [
    {
     "name": "stdout",
     "output_type": "stream",
     "text": [
      "Missing values:  0\n",
      "No. of duplicates:  0\n"
     ]
    }
   ],
   "source": [
    "print(\"Missing values: \",minIntens.isnull().values.sum())\n",
    "print(\"No. of duplicates: \",len(minIntens[minIntens.duplicated()]))"
   ]
  },
  {
   "cell_type": "code",
   "execution_count": 55,
   "id": "7297d389",
   "metadata": {},
   "outputs": [
    {
     "data": {
      "text/html": [
       "<div>\n",
       "<style scoped>\n",
       "    .dataframe tbody tr th:only-of-type {\n",
       "        vertical-align: middle;\n",
       "    }\n",
       "\n",
       "    .dataframe tbody tr th {\n",
       "        vertical-align: top;\n",
       "    }\n",
       "\n",
       "    .dataframe thead th {\n",
       "        text-align: right;\n",
       "    }\n",
       "</style>\n",
       "<table border=\"1\" class=\"dataframe\">\n",
       "  <thead>\n",
       "    <tr style=\"text-align: right;\">\n",
       "      <th></th>\n",
       "      <th>Id</th>\n",
       "      <th>ActivityMinute</th>\n",
       "      <th>Steps</th>\n",
       "    </tr>\n",
       "  </thead>\n",
       "  <tbody>\n",
       "    <tr>\n",
       "      <th>0</th>\n",
       "      <td>1503960366</td>\n",
       "      <td>4/12/2016 12:00:00 AM</td>\n",
       "      <td>0</td>\n",
       "    </tr>\n",
       "    <tr>\n",
       "      <th>1</th>\n",
       "      <td>1503960366</td>\n",
       "      <td>4/12/2016 12:01:00 AM</td>\n",
       "      <td>0</td>\n",
       "    </tr>\n",
       "  </tbody>\n",
       "</table>\n",
       "</div>"
      ],
      "text/plain": [
       "           Id         ActivityMinute  Steps\n",
       "0  1503960366  4/12/2016 12:00:00 AM      0\n",
       "1  1503960366  4/12/2016 12:01:00 AM      0"
      ]
     },
     "execution_count": 55,
     "metadata": {},
     "output_type": "execute_result"
    }
   ],
   "source": [
    "# Import Minutes Steps\n",
    "minSteps = pd.read_csv(\"data/minuteStepsNarrow_merged.csv\")\n",
    "minSteps.head(2)"
   ]
  },
  {
   "cell_type": "code",
   "execution_count": 56,
   "id": "0fd232de",
   "metadata": {},
   "outputs": [
    {
     "name": "stdout",
     "output_type": "stream",
     "text": [
      "<class 'pandas.core.frame.DataFrame'>\n",
      "RangeIndex: 1325580 entries, 0 to 1325579\n",
      "Data columns (total 3 columns):\n",
      " #   Column          Non-Null Count    Dtype \n",
      "---  ------          --------------    ----- \n",
      " 0   Id              1325580 non-null  int64 \n",
      " 1   ActivityMinute  1325580 non-null  object\n",
      " 2   Steps           1325580 non-null  int64 \n",
      "dtypes: int64(2), object(1)\n",
      "memory usage: 30.3+ MB\n"
     ]
    }
   ],
   "source": [
    "minSteps.info()"
   ]
  },
  {
   "cell_type": "code",
   "execution_count": 57,
   "id": "50ed272b",
   "metadata": {},
   "outputs": [
    {
     "name": "stdout",
     "output_type": "stream",
     "text": [
      "Missing values:  0\n",
      "No. of duplicates:  0\n"
     ]
    }
   ],
   "source": [
    "print(\"Missing values: \",minSteps.isnull().values.sum())\n",
    "print(\"No. of duplicates: \",len(minSteps[minSteps.duplicated()]))"
   ]
  },
  {
   "cell_type": "code",
   "execution_count": 58,
   "id": "4b84803f",
   "metadata": {},
   "outputs": [
    {
     "data": {
      "text/html": [
       "<div>\n",
       "<style scoped>\n",
       "    .dataframe tbody tr th:only-of-type {\n",
       "        vertical-align: middle;\n",
       "    }\n",
       "\n",
       "    .dataframe tbody tr th {\n",
       "        vertical-align: top;\n",
       "    }\n",
       "\n",
       "    .dataframe thead th {\n",
       "        text-align: right;\n",
       "    }\n",
       "</style>\n",
       "<table border=\"1\" class=\"dataframe\">\n",
       "  <thead>\n",
       "    <tr style=\"text-align: right;\">\n",
       "      <th></th>\n",
       "      <th>Id</th>\n",
       "      <th>ActivityMinute</th>\n",
       "      <th>METs</th>\n",
       "    </tr>\n",
       "  </thead>\n",
       "  <tbody>\n",
       "    <tr>\n",
       "      <th>0</th>\n",
       "      <td>1503960366</td>\n",
       "      <td>4/12/2016 12:00:00 AM</td>\n",
       "      <td>10</td>\n",
       "    </tr>\n",
       "    <tr>\n",
       "      <th>1</th>\n",
       "      <td>1503960366</td>\n",
       "      <td>4/12/2016 12:01:00 AM</td>\n",
       "      <td>10</td>\n",
       "    </tr>\n",
       "  </tbody>\n",
       "</table>\n",
       "</div>"
      ],
      "text/plain": [
       "           Id         ActivityMinute  METs\n",
       "0  1503960366  4/12/2016 12:00:00 AM    10\n",
       "1  1503960366  4/12/2016 12:01:00 AM    10"
      ]
     },
     "execution_count": 58,
     "metadata": {},
     "output_type": "execute_result"
    }
   ],
   "source": [
    "# Import Minutes METs\n",
    "minMETs = pd.read_csv(\"data/minuteMETsNarrow_merged.csv\")\n",
    "minMETs.head(2)"
   ]
  },
  {
   "cell_type": "markdown",
   "id": "e9778457",
   "metadata": {},
   "source": [
    "**METs** = metabolic equivalents.\n",
    "\n",
    "One MET is defined as the energy you use when you’re resting or sitting still.\n",
    "\n",
    "An activity that has a value of 4 METs means you’re exerting four times the energy than you would if you were sitting still.\n",
    "\n",
    "The MET level is higher as the intensity of your activity increases. For example, 2.5 METs is the amount of energy used each minute to walk leisurely,\n",
    " but that goes up to 5 METs when walking very briskly at 4 mph. You are burning 5 times as many calories per minute when walking briskly as sitting quietly.\n"
   ]
  },
  {
   "cell_type": "code",
   "execution_count": 59,
   "id": "c3eba282",
   "metadata": {},
   "outputs": [
    {
     "name": "stdout",
     "output_type": "stream",
     "text": [
      "<class 'pandas.core.frame.DataFrame'>\n",
      "RangeIndex: 1325580 entries, 0 to 1325579\n",
      "Data columns (total 3 columns):\n",
      " #   Column          Non-Null Count    Dtype \n",
      "---  ------          --------------    ----- \n",
      " 0   Id              1325580 non-null  int64 \n",
      " 1   ActivityMinute  1325580 non-null  object\n",
      " 2   METs            1325580 non-null  int64 \n",
      "dtypes: int64(2), object(1)\n",
      "memory usage: 30.3+ MB\n"
     ]
    }
   ],
   "source": [
    "minMETs.info()"
   ]
  },
  {
   "cell_type": "code",
   "execution_count": 60,
   "id": "79d0da8b",
   "metadata": {},
   "outputs": [
    {
     "name": "stdout",
     "output_type": "stream",
     "text": [
      "Missing values:  0\n",
      "No. of duplicates:  0\n"
     ]
    }
   ],
   "source": [
    "print(\"Missing values: \",minMETs.isnull().values.sum())\n",
    "print(\"No. of duplicates: \",len(minMETs[minMETs.duplicated()]))"
   ]
  },
  {
   "cell_type": "code",
   "execution_count": 61,
   "id": "d9f2af08",
   "metadata": {},
   "outputs": [],
   "source": [
    "# Change to date format\n",
    "minCals[\"ActivityMinute\"] = pd.to_datetime(minCals[\"ActivityMinute\"])\n",
    "minIntens[\"ActivityMinute\"] = pd.to_datetime(minIntens[\"ActivityMinute\"])\n",
    "minSteps[\"ActivityMinute\"] = pd.to_datetime(minSteps[\"ActivityMinute\"])\n",
    "minMETs[\"ActivityMinute\"] = pd.to_datetime(minMETs[\"ActivityMinute\"])"
   ]
  },
  {
   "cell_type": "code",
   "execution_count": 62,
   "id": "a8fb74c1",
   "metadata": {},
   "outputs": [
    {
     "name": "stdout",
     "output_type": "stream",
     "text": [
      "Calories has 33 unique Ids\n",
      "Intensity has 33 unique Ids\n",
      "Steps has 33 unique Ids\n",
      "METs has 33 unique Ids\n"
     ]
    }
   ],
   "source": [
    "# Number of Ids\n",
    "print(\"Calories has\", len(minCals['Id'].unique()), \"unique Ids\")\n",
    "print(\"Intensity has\", len(minIntens['Id'].unique()), \"unique Ids\")\n",
    "print(\"Steps has\", len(minSteps['Id'].unique()), \"unique Ids\")\n",
    "print(\"METs has\", len(minMETs['Id'].unique()), \"unique Ids\")\n"
   ]
  },
  {
   "cell_type": "code",
   "execution_count": 63,
   "id": "4105fe1f",
   "metadata": {},
   "outputs": [
    {
     "name": "stdout",
     "output_type": "stream",
     "text": [
      "Calories has 44160 observations\n",
      "Intensity has 44160 observations\n",
      "Steps has 44160 observations\n",
      "METs has 44160 observations\n"
     ]
    }
   ],
   "source": [
    "# Number of observations\n",
    "print(\"Calories has\", len(minCals[\"ActivityMinute\"].unique()), \"observations\")\n",
    "print(\"Intensity has\", len(minIntens[\"ActivityMinute\"].unique()), \"observations\")\n",
    "print(\"Steps has\", len(minSteps[\"ActivityMinute\"].unique()), \"observations\")\n",
    "print(\"METs has\", len(minMETs[\"ActivityMinute\"].unique()), \"observations\")\n"
   ]
  },
  {
   "cell_type": "code",
   "execution_count": 64,
   "id": "510d3e59",
   "metadata": {},
   "outputs": [
    {
     "name": "stdout",
     "output_type": "stream",
     "text": [
      "For Calories dates range from 2016-04-12 00:00:00 and 2016-05-12 15:59:00\n",
      "For Intensity dates range from 2016-04-12 00:00:00 and 2016-05-12 15:59:00\n",
      "For Steps dates range from 2016-04-12 00:00:00 and 2016-05-12 15:59:00\n",
      "For METs dates range from 2016-04-12 00:00:00 and 2016-05-12 15:59:00\n"
     ]
    }
   ],
   "source": [
    "# Date range\n",
    "print(\"For Calories dates range from\", minCals[\"ActivityMinute\"].min(), \"and\", minCals[\"ActivityMinute\"].max())\n",
    "print(\"For Intensity dates range from\", minIntens[\"ActivityMinute\"].min(), \"and\", minIntens[\"ActivityMinute\"].max())\n",
    "print(\"For Steps dates range from\", minSteps[\"ActivityMinute\"].min(), \"and\", minSteps[\"ActivityMinute\"].max())\n",
    "print(\"For METs dates range from\", minMETs[\"ActivityMinute\"].min(), \"and\", minMETs[\"ActivityMinute\"].max())"
   ]
  },
  {
   "cell_type": "markdown",
   "id": "1accbcd1",
   "metadata": {},
   "source": [
    "**Data Observations:**\n",
    "For Calories, Intensity, Steps & METs files:\n",
    "- ActivityMinute is an object - Changed to a date object.\n",
    "- There are 33 unique Ids in all minute files\n",
    "- There are no missing values\n",
    "- Date ranges from 12th April to 12th May (2016)\n",
    "- There are 44160 unique observations (rows) in each file\n",
    "\n",
    "**Next:**\n",
    "- Merge the Calaries, Intensity, Steps and METs minute files\n",
    "- Check for duplicates\n",
    "- Create clean merged csv file, including with Heart Rate "
   ]
  },
  {
   "cell_type": "markdown",
   "id": "70ecc126",
   "metadata": {},
   "source": [
    "****Merge files****"
   ]
  },
  {
   "cell_type": "code",
   "execution_count": 63,
   "id": "bc920c15",
   "metadata": {},
   "outputs": [],
   "source": [
    "# Merge Calories and Intensity\n",
    "min_merge = pd.merge(minCals, minIntens, how='inner', on=['Id', 'ActivityMinute'])"
   ]
  },
  {
   "cell_type": "code",
   "execution_count": 64,
   "id": "f272be2e",
   "metadata": {},
   "outputs": [],
   "source": [
    "# Merge Steps\n",
    "min_merge = pd.merge(min_merge, minSteps, how='inner', on=['Id', 'ActivityMinute'])"
   ]
  },
  {
   "cell_type": "code",
   "execution_count": 65,
   "id": "e6303699",
   "metadata": {},
   "outputs": [],
   "source": [
    "# Merge METs\n",
    "min_merge = pd.merge(min_merge, minMETs, how='inner', on=['Id', 'ActivityMinute'])"
   ]
  },
  {
   "cell_type": "code",
   "execution_count": 66,
   "id": "21216fdc",
   "metadata": {},
   "outputs": [
    {
     "data": {
      "text/html": [
       "<div>\n",
       "<style scoped>\n",
       "    .dataframe tbody tr th:only-of-type {\n",
       "        vertical-align: middle;\n",
       "    }\n",
       "\n",
       "    .dataframe tbody tr th {\n",
       "        vertical-align: top;\n",
       "    }\n",
       "\n",
       "    .dataframe thead th {\n",
       "        text-align: right;\n",
       "    }\n",
       "</style>\n",
       "<table border=\"1\" class=\"dataframe\">\n",
       "  <thead>\n",
       "    <tr style=\"text-align: right;\">\n",
       "      <th></th>\n",
       "      <th>Id</th>\n",
       "      <th>ActivityMinute</th>\n",
       "      <th>Calories</th>\n",
       "      <th>Intensity</th>\n",
       "      <th>Steps</th>\n",
       "      <th>METs</th>\n",
       "    </tr>\n",
       "  </thead>\n",
       "  <tbody>\n",
       "    <tr>\n",
       "      <th>0</th>\n",
       "      <td>1503960366</td>\n",
       "      <td>2016-04-12 00:00:00</td>\n",
       "      <td>0.7865</td>\n",
       "      <td>0</td>\n",
       "      <td>0</td>\n",
       "      <td>10</td>\n",
       "    </tr>\n",
       "    <tr>\n",
       "      <th>1</th>\n",
       "      <td>1503960366</td>\n",
       "      <td>2016-04-12 00:01:00</td>\n",
       "      <td>0.7865</td>\n",
       "      <td>0</td>\n",
       "      <td>0</td>\n",
       "      <td>10</td>\n",
       "    </tr>\n",
       "  </tbody>\n",
       "</table>\n",
       "</div>"
      ],
      "text/plain": [
       "           Id      ActivityMinute  Calories  Intensity  Steps  METs\n",
       "0  1503960366 2016-04-12 00:00:00    0.7865          0      0    10\n",
       "1  1503960366 2016-04-12 00:01:00    0.7865          0      0    10"
      ]
     },
     "execution_count": 66,
     "metadata": {},
     "output_type": "execute_result"
    }
   ],
   "source": [
    "min_merge.head(2)"
   ]
  },
  {
   "cell_type": "code",
   "execution_count": 67,
   "id": "36222cda",
   "metadata": {},
   "outputs": [
    {
     "name": "stdout",
     "output_type": "stream",
     "text": [
      "No. of duplicates:  0\n"
     ]
    }
   ],
   "source": [
    "# Check for duplicates\n",
    "print(\"No. of duplicates: \",len(min_merge[min_merge.duplicated()]))"
   ]
  },
  {
   "cell_type": "code",
   "execution_count": 68,
   "id": "ecd751cd",
   "metadata": {},
   "outputs": [],
   "source": [
    "# Set the date to index\n",
    "min_merge.set_index(\"ActivityMinute\", inplace=True)"
   ]
  },
  {
   "cell_type": "code",
   "execution_count": 69,
   "id": "9ac47c13",
   "metadata": {},
   "outputs": [],
   "source": [
    "# break the date down into it's individual date components (Month,Day,Hour,Min)\n",
    "min_merge['Month'] = min_merge.index.month\n",
    "min_merge[\"Day\"] = min_merge.index.day\n",
    "min_merge[\"Hour\"] = min_merge.index.hour\n",
    "min_merge[\"Min\"] = min_merge.index.minute"
   ]
  },
  {
   "cell_type": "code",
   "execution_count": 70,
   "id": "11c913de",
   "metadata": {},
   "outputs": [
    {
     "data": {
      "text/html": [
       "<div>\n",
       "<style scoped>\n",
       "    .dataframe tbody tr th:only-of-type {\n",
       "        vertical-align: middle;\n",
       "    }\n",
       "\n",
       "    .dataframe tbody tr th {\n",
       "        vertical-align: top;\n",
       "    }\n",
       "\n",
       "    .dataframe thead th {\n",
       "        text-align: right;\n",
       "    }\n",
       "</style>\n",
       "<table border=\"1\" class=\"dataframe\">\n",
       "  <thead>\n",
       "    <tr style=\"text-align: right;\">\n",
       "      <th></th>\n",
       "      <th>Id</th>\n",
       "      <th>Calories</th>\n",
       "      <th>Intensity</th>\n",
       "      <th>Steps</th>\n",
       "      <th>METs</th>\n",
       "      <th>Month</th>\n",
       "      <th>Day</th>\n",
       "      <th>Hour</th>\n",
       "      <th>Min</th>\n",
       "    </tr>\n",
       "    <tr>\n",
       "      <th>ActivityMinute</th>\n",
       "      <th></th>\n",
       "      <th></th>\n",
       "      <th></th>\n",
       "      <th></th>\n",
       "      <th></th>\n",
       "      <th></th>\n",
       "      <th></th>\n",
       "      <th></th>\n",
       "      <th></th>\n",
       "    </tr>\n",
       "  </thead>\n",
       "  <tbody>\n",
       "    <tr>\n",
       "      <th>2016-04-12 00:00:00</th>\n",
       "      <td>1503960366</td>\n",
       "      <td>0.7865</td>\n",
       "      <td>0</td>\n",
       "      <td>0</td>\n",
       "      <td>10</td>\n",
       "      <td>4</td>\n",
       "      <td>12</td>\n",
       "      <td>0</td>\n",
       "      <td>0</td>\n",
       "    </tr>\n",
       "    <tr>\n",
       "      <th>2016-04-12 00:01:00</th>\n",
       "      <td>1503960366</td>\n",
       "      <td>0.7865</td>\n",
       "      <td>0</td>\n",
       "      <td>0</td>\n",
       "      <td>10</td>\n",
       "      <td>4</td>\n",
       "      <td>12</td>\n",
       "      <td>0</td>\n",
       "      <td>1</td>\n",
       "    </tr>\n",
       "    <tr>\n",
       "      <th>2016-04-12 00:02:00</th>\n",
       "      <td>1503960366</td>\n",
       "      <td>0.7865</td>\n",
       "      <td>0</td>\n",
       "      <td>0</td>\n",
       "      <td>10</td>\n",
       "      <td>4</td>\n",
       "      <td>12</td>\n",
       "      <td>0</td>\n",
       "      <td>2</td>\n",
       "    </tr>\n",
       "  </tbody>\n",
       "</table>\n",
       "</div>"
      ],
      "text/plain": [
       "                             Id  Calories  Intensity  Steps  METs  Month  Day  \\\n",
       "ActivityMinute                                                                  \n",
       "2016-04-12 00:00:00  1503960366    0.7865          0      0    10      4   12   \n",
       "2016-04-12 00:01:00  1503960366    0.7865          0      0    10      4   12   \n",
       "2016-04-12 00:02:00  1503960366    0.7865          0      0    10      4   12   \n",
       "\n",
       "                     Hour  Min  \n",
       "ActivityMinute                  \n",
       "2016-04-12 00:00:00     0    0  \n",
       "2016-04-12 00:01:00     0    1  \n",
       "2016-04-12 00:02:00     0    2  "
      ]
     },
     "execution_count": 70,
     "metadata": {},
     "output_type": "execute_result"
    }
   ],
   "source": [
    "min_merge.head(3)"
   ]
  },
  {
   "cell_type": "code",
   "execution_count": 71,
   "id": "d0db0684",
   "metadata": {},
   "outputs": [],
   "source": [
    "# Output files\n",
    "min_merge.to_csv(\"clean_data\\min_merge.csv\")\n",
    "minCals.to_csv(\"clean_data\\minCals.csv\")\n",
    "minIntens.to_csv(\"clean_data\\minIntens.csv\")\n",
    "minSteps.to_csv(\"clean_data\\minSteps.csv\")\n",
    "minMETs.to_csv(\"clean_data\\minMETs.csv\")"
   ]
  },
  {
   "cell_type": "markdown",
   "id": "59aa66b7",
   "metadata": {},
   "source": [
    "**--------------------------------------------------------------------------------------------------------------------------------------------------------**"
   ]
  },
  {
   "cell_type": "markdown",
   "id": "3b5a473f",
   "metadata": {},
   "source": [
    "**Heart Rate**"
   ]
  },
  {
   "cell_type": "code",
   "execution_count": 72,
   "id": "16fd1ea8",
   "metadata": {},
   "outputs": [
    {
     "data": {
      "text/html": [
       "<div>\n",
       "<style scoped>\n",
       "    .dataframe tbody tr th:only-of-type {\n",
       "        vertical-align: middle;\n",
       "    }\n",
       "\n",
       "    .dataframe tbody tr th {\n",
       "        vertical-align: top;\n",
       "    }\n",
       "\n",
       "    .dataframe thead th {\n",
       "        text-align: right;\n",
       "    }\n",
       "</style>\n",
       "<table border=\"1\" class=\"dataframe\">\n",
       "  <thead>\n",
       "    <tr style=\"text-align: right;\">\n",
       "      <th></th>\n",
       "      <th>Id</th>\n",
       "      <th>Time</th>\n",
       "      <th>Value</th>\n",
       "    </tr>\n",
       "  </thead>\n",
       "  <tbody>\n",
       "    <tr>\n",
       "      <th>0</th>\n",
       "      <td>2022484408</td>\n",
       "      <td>4/12/2016 7:21:00 AM</td>\n",
       "      <td>97</td>\n",
       "    </tr>\n",
       "    <tr>\n",
       "      <th>1</th>\n",
       "      <td>2022484408</td>\n",
       "      <td>4/12/2016 7:21:05 AM</td>\n",
       "      <td>102</td>\n",
       "    </tr>\n",
       "  </tbody>\n",
       "</table>\n",
       "</div>"
      ],
      "text/plain": [
       "           Id                  Time  Value\n",
       "0  2022484408  4/12/2016 7:21:00 AM     97\n",
       "1  2022484408  4/12/2016 7:21:05 AM    102"
      ]
     },
     "execution_count": 72,
     "metadata": {},
     "output_type": "execute_result"
    }
   ],
   "source": [
    "# Import Heat Rate data\n",
    "HR = pd.read_csv(\"data/heartrate_seconds_merged.csv\")\n",
    "HR.head(2)"
   ]
  },
  {
   "cell_type": "markdown",
   "id": "0dabb573",
   "metadata": {},
   "source": [
    "Notes:\n",
    "    \n",
    "Value = Mean heart rate value"
   ]
  },
  {
   "cell_type": "code",
   "execution_count": 73,
   "id": "cc8ec965",
   "metadata": {},
   "outputs": [
    {
     "name": "stdout",
     "output_type": "stream",
     "text": [
      "<class 'pandas.core.frame.DataFrame'>\n",
      "RangeIndex: 2483658 entries, 0 to 2483657\n",
      "Data columns (total 3 columns):\n",
      " #   Column  Dtype \n",
      "---  ------  ----- \n",
      " 0   Id      int64 \n",
      " 1   Time    object\n",
      " 2   Value   int64 \n",
      "dtypes: int64(2), object(1)\n",
      "memory usage: 56.8+ MB\n"
     ]
    }
   ],
   "source": [
    "HR.info()"
   ]
  },
  {
   "cell_type": "code",
   "execution_count": 74,
   "id": "a1782be6",
   "metadata": {},
   "outputs": [
    {
     "name": "stdout",
     "output_type": "stream",
     "text": [
      "Missing values:  0\n",
      "No. of duplicates:  0\n"
     ]
    }
   ],
   "source": [
    "print(\"Missing values: \",HR.isnull().values.sum())\n",
    "print(\"No. of duplicates: \",len(HR[HR.duplicated()]))"
   ]
  },
  {
   "cell_type": "code",
   "execution_count": 75,
   "id": "e6420ecc",
   "metadata": {},
   "outputs": [],
   "source": [
    "# Set Time to datetime format\n",
    "HR[\"Time\"] = pd.to_datetime(HR[\"Time\"])"
   ]
  },
  {
   "cell_type": "code",
   "execution_count": 127,
   "id": "ec82f32e",
   "metadata": {},
   "outputs": [
    {
     "name": "stdout",
     "output_type": "stream",
     "text": [
      "Heart Rate has 14 unique Ids\n",
      "Heart Rate has 961274 observations\n",
      "Heart Rate dates range from 2016-04-12 00:00:00 and 2016-05-12 16:20:00\n"
     ]
    }
   ],
   "source": [
    "# Summary\n",
    "print(\"Heart Rate has\", len(HR['Id'].unique()), \"unique Ids\")\n",
    "print(\"Heart Rate has\", len(HR[\"Time\"].unique()), \"observations\")\n",
    "print(\"Heart Rate dates range from\", HR[\"Time\"].min(), \"and\", HR[\"Time\"].max())"
   ]
  },
  {
   "cell_type": "markdown",
   "id": "404a80c8",
   "metadata": {},
   "source": [
    "**Data Observations:**\n",
    "- Time is an object. Changed to a date object.\n",
    "- There are ***only 14*** unique Ids \n",
    "- There are no missing values\n",
    "- Date ranges from 12th April to 12th May (2016)\n",
    "- There are 961274 observations within the date range for each Id\n",
    "- There are no duplicates\n",
    "\n",
    "**Next:**\n",
    "- In order to improve HR analysis and gain additional insights, we can calculate average heart rate per minute and then merge this data with the other minutes data set (min_merge).\n",
    "- Generate cleaned & merged csv file\n",
    "\n"
   ]
  },
  {
   "cell_type": "code",
   "execution_count": 76,
   "id": "e99c6843",
   "metadata": {},
   "outputs": [],
   "source": [
    "# Set date as index\n",
    "HR.set_index('Time',inplace=True)"
   ]
  },
  {
   "cell_type": "code",
   "execution_count": 77,
   "id": "78925d0b",
   "metadata": {},
   "outputs": [],
   "source": [
    "# break the date down into it's individual date components (Month,Day,Hour,Min)\n",
    "HR['Month'] = HR.index.month\n",
    "HR[\"Day\"] = HR.index.day\n",
    "HR[\"Hour\"] = HR.index.hour\n",
    "HR[\"Min\"] = HR.index.minute"
   ]
  },
  {
   "cell_type": "code",
   "execution_count": 79,
   "id": "dd1fc761",
   "metadata": {},
   "outputs": [
    {
     "data": {
      "text/html": [
       "<div>\n",
       "<style scoped>\n",
       "    .dataframe tbody tr th:only-of-type {\n",
       "        vertical-align: middle;\n",
       "    }\n",
       "\n",
       "    .dataframe tbody tr th {\n",
       "        vertical-align: top;\n",
       "    }\n",
       "\n",
       "    .dataframe thead th {\n",
       "        text-align: right;\n",
       "    }\n",
       "</style>\n",
       "<table border=\"1\" class=\"dataframe\">\n",
       "  <thead>\n",
       "    <tr style=\"text-align: right;\">\n",
       "      <th></th>\n",
       "      <th>Id</th>\n",
       "      <th>Value</th>\n",
       "      <th>Month</th>\n",
       "      <th>Day</th>\n",
       "      <th>Hour</th>\n",
       "      <th>Min</th>\n",
       "    </tr>\n",
       "    <tr>\n",
       "      <th>Time</th>\n",
       "      <th></th>\n",
       "      <th></th>\n",
       "      <th></th>\n",
       "      <th></th>\n",
       "      <th></th>\n",
       "      <th></th>\n",
       "    </tr>\n",
       "  </thead>\n",
       "  <tbody>\n",
       "    <tr>\n",
       "      <th>2016-04-12 07:21:00</th>\n",
       "      <td>2022484408</td>\n",
       "      <td>97</td>\n",
       "      <td>4</td>\n",
       "      <td>12</td>\n",
       "      <td>7</td>\n",
       "      <td>21</td>\n",
       "    </tr>\n",
       "    <tr>\n",
       "      <th>2016-04-12 07:21:05</th>\n",
       "      <td>2022484408</td>\n",
       "      <td>102</td>\n",
       "      <td>4</td>\n",
       "      <td>12</td>\n",
       "      <td>7</td>\n",
       "      <td>21</td>\n",
       "    </tr>\n",
       "  </tbody>\n",
       "</table>\n",
       "</div>"
      ],
      "text/plain": [
       "                             Id  Value  Month  Day  Hour  Min\n",
       "Time                                                         \n",
       "2016-04-12 07:21:00  2022484408     97      4   12     7   21\n",
       "2016-04-12 07:21:05  2022484408    102      4   12     7   21"
      ]
     },
     "execution_count": 79,
     "metadata": {},
     "output_type": "execute_result"
    }
   ],
   "source": [
    "HR.head(2)"
   ]
  },
  {
   "cell_type": "code",
   "execution_count": 80,
   "id": "36888b0a",
   "metadata": {},
   "outputs": [],
   "source": [
    "# Rename column \"Value\" to \"HRate\"\n",
    "HR.rename(columns={'Value':'meanHR'}, inplace=True)"
   ]
  },
  {
   "cell_type": "code",
   "execution_count": 81,
   "id": "646a8fc3",
   "metadata": {},
   "outputs": [],
   "source": [
    "# Group columns and calculate the Average Heart Rate for each minute.\n",
    "# Then reset the index to reform the data frame.\n",
    "HR_groupby = HR.groupby([\"Id\", \"Month\", \"Day\", \"Hour\", \"Min\"])[\"meanHR\"].mean().reset_index()"
   ]
  },
  {
   "cell_type": "code",
   "execution_count": 82,
   "id": "c800bcbd",
   "metadata": {},
   "outputs": [
    {
     "data": {
      "text/html": [
       "<div>\n",
       "<style scoped>\n",
       "    .dataframe tbody tr th:only-of-type {\n",
       "        vertical-align: middle;\n",
       "    }\n",
       "\n",
       "    .dataframe tbody tr th {\n",
       "        vertical-align: top;\n",
       "    }\n",
       "\n",
       "    .dataframe thead th {\n",
       "        text-align: right;\n",
       "    }\n",
       "</style>\n",
       "<table border=\"1\" class=\"dataframe\">\n",
       "  <thead>\n",
       "    <tr style=\"text-align: right;\">\n",
       "      <th></th>\n",
       "      <th>Id</th>\n",
       "      <th>Month</th>\n",
       "      <th>Day</th>\n",
       "      <th>Hour</th>\n",
       "      <th>Min</th>\n",
       "      <th>meanHR</th>\n",
       "    </tr>\n",
       "  </thead>\n",
       "  <tbody>\n",
       "    <tr>\n",
       "      <th>0</th>\n",
       "      <td>2022484408</td>\n",
       "      <td>4</td>\n",
       "      <td>12</td>\n",
       "      <td>7</td>\n",
       "      <td>21</td>\n",
       "      <td>101.600000</td>\n",
       "    </tr>\n",
       "    <tr>\n",
       "      <th>1</th>\n",
       "      <td>2022484408</td>\n",
       "      <td>4</td>\n",
       "      <td>12</td>\n",
       "      <td>7</td>\n",
       "      <td>22</td>\n",
       "      <td>87.888889</td>\n",
       "    </tr>\n",
       "    <tr>\n",
       "      <th>2</th>\n",
       "      <td>2022484408</td>\n",
       "      <td>4</td>\n",
       "      <td>12</td>\n",
       "      <td>7</td>\n",
       "      <td>23</td>\n",
       "      <td>58.000000</td>\n",
       "    </tr>\n",
       "    <tr>\n",
       "      <th>3</th>\n",
       "      <td>2022484408</td>\n",
       "      <td>4</td>\n",
       "      <td>12</td>\n",
       "      <td>7</td>\n",
       "      <td>24</td>\n",
       "      <td>58.000000</td>\n",
       "    </tr>\n",
       "  </tbody>\n",
       "</table>\n",
       "</div>"
      ],
      "text/plain": [
       "           Id  Month  Day  Hour  Min      meanHR\n",
       "0  2022484408      4   12     7   21  101.600000\n",
       "1  2022484408      4   12     7   22   87.888889\n",
       "2  2022484408      4   12     7   23   58.000000\n",
       "3  2022484408      4   12     7   24   58.000000"
      ]
     },
     "execution_count": 82,
     "metadata": {},
     "output_type": "execute_result"
    }
   ],
   "source": [
    "HR_groupby.head(4)"
   ]
  },
  {
   "cell_type": "markdown",
   "id": "f2934a1a",
   "metadata": {},
   "source": [
    "**Merge (inner join) Heart rate data with the minutes data (min_merge)**"
   ]
  },
  {
   "cell_type": "code",
   "execution_count": 83,
   "id": "98119f8d",
   "metadata": {},
   "outputs": [
    {
     "data": {
      "text/html": [
       "<div>\n",
       "<style scoped>\n",
       "    .dataframe tbody tr th:only-of-type {\n",
       "        vertical-align: middle;\n",
       "    }\n",
       "\n",
       "    .dataframe tbody tr th {\n",
       "        vertical-align: top;\n",
       "    }\n",
       "\n",
       "    .dataframe thead th {\n",
       "        text-align: right;\n",
       "    }\n",
       "</style>\n",
       "<table border=\"1\" class=\"dataframe\">\n",
       "  <thead>\n",
       "    <tr style=\"text-align: right;\">\n",
       "      <th></th>\n",
       "      <th>Id</th>\n",
       "      <th>Calories</th>\n",
       "      <th>Intensity</th>\n",
       "      <th>Steps</th>\n",
       "      <th>METs</th>\n",
       "      <th>Month</th>\n",
       "      <th>Day</th>\n",
       "      <th>Hour</th>\n",
       "      <th>Min</th>\n",
       "    </tr>\n",
       "    <tr>\n",
       "      <th>ActivityMinute</th>\n",
       "      <th></th>\n",
       "      <th></th>\n",
       "      <th></th>\n",
       "      <th></th>\n",
       "      <th></th>\n",
       "      <th></th>\n",
       "      <th></th>\n",
       "      <th></th>\n",
       "      <th></th>\n",
       "    </tr>\n",
       "  </thead>\n",
       "  <tbody>\n",
       "    <tr>\n",
       "      <th>2016-04-12 00:00:00</th>\n",
       "      <td>1503960366</td>\n",
       "      <td>0.7865</td>\n",
       "      <td>0</td>\n",
       "      <td>0</td>\n",
       "      <td>10</td>\n",
       "      <td>4</td>\n",
       "      <td>12</td>\n",
       "      <td>0</td>\n",
       "      <td>0</td>\n",
       "    </tr>\n",
       "    <tr>\n",
       "      <th>2016-04-12 00:01:00</th>\n",
       "      <td>1503960366</td>\n",
       "      <td>0.7865</td>\n",
       "      <td>0</td>\n",
       "      <td>0</td>\n",
       "      <td>10</td>\n",
       "      <td>4</td>\n",
       "      <td>12</td>\n",
       "      <td>0</td>\n",
       "      <td>1</td>\n",
       "    </tr>\n",
       "  </tbody>\n",
       "</table>\n",
       "</div>"
      ],
      "text/plain": [
       "                             Id  Calories  Intensity  Steps  METs  Month  Day  \\\n",
       "ActivityMinute                                                                  \n",
       "2016-04-12 00:00:00  1503960366    0.7865          0      0    10      4   12   \n",
       "2016-04-12 00:01:00  1503960366    0.7865          0      0    10      4   12   \n",
       "\n",
       "                     Hour  Min  \n",
       "ActivityMinute                  \n",
       "2016-04-12 00:00:00     0    0  \n",
       "2016-04-12 00:01:00     0    1  "
      ]
     },
     "execution_count": 83,
     "metadata": {},
     "output_type": "execute_result"
    }
   ],
   "source": [
    "min_merge.head(2)"
   ]
  },
  {
   "cell_type": "code",
   "execution_count": 84,
   "id": "b78a5212",
   "metadata": {},
   "outputs": [],
   "source": [
    "# merge min_merge and HR_groupby to Id, Month, Day, Hour & Minute\n",
    "min_HR_inner = pd.merge(min_merge, HR_groupby, how='inner', on=['Id', 'Month', 'Day', 'Hour', 'Min'])"
   ]
  },
  {
   "cell_type": "code",
   "execution_count": 85,
   "id": "0c1151ee",
   "metadata": {},
   "outputs": [
    {
     "data": {
      "application/javascript": [
       "\n",
       "        if (window._pyforest_update_imports_cell) { window._pyforest_update_imports_cell('import matplotlib.pyplot as plt'); }\n",
       "    "
      ],
      "text/plain": [
       "<IPython.core.display.Javascript object>"
      ]
     },
     "metadata": {},
     "output_type": "display_data"
    },
    {
     "data": {
      "text/plain": [
       "<matplotlib.axes._subplots.AxesSubplot at 0x23d8d723e80>"
      ]
     },
     "execution_count": 85,
     "metadata": {},
     "output_type": "execute_result"
    },
    {
     "data": {
      "image/png": "[encoded data removed]",
      "text/plain": [
       "<Figure size 1152x360 with 1 Axes>"
      ]
     },
     "metadata": {
      "needs_background": "light"
     },
     "output_type": "display_data"
    }
   ],
   "source": [
    "# Check for NAs\n",
    "plt.figure(figsize=(16, 5))\n",
    "sns.heatmap(min_HR_inner.isnull(),yticklabels=False,cbar=False,cmap='viridis')"
   ]
  },
  {
   "cell_type": "code",
   "execution_count": 86,
   "id": "c7358981",
   "metadata": {},
   "outputs": [
    {
     "data": {
      "text/html": [
       "<div>\n",
       "<style scoped>\n",
       "    .dataframe tbody tr th:only-of-type {\n",
       "        vertical-align: middle;\n",
       "    }\n",
       "\n",
       "    .dataframe tbody tr th {\n",
       "        vertical-align: top;\n",
       "    }\n",
       "\n",
       "    .dataframe thead th {\n",
       "        text-align: right;\n",
       "    }\n",
       "</style>\n",
       "<table border=\"1\" class=\"dataframe\">\n",
       "  <thead>\n",
       "    <tr style=\"text-align: right;\">\n",
       "      <th></th>\n",
       "      <th>Id</th>\n",
       "      <th>Calories</th>\n",
       "      <th>Intensity</th>\n",
       "      <th>Steps</th>\n",
       "      <th>METs</th>\n",
       "      <th>Month</th>\n",
       "      <th>Day</th>\n",
       "      <th>Hour</th>\n",
       "      <th>Min</th>\n",
       "      <th>meanHR</th>\n",
       "    </tr>\n",
       "  </thead>\n",
       "  <tbody>\n",
       "    <tr>\n",
       "      <th>0</th>\n",
       "      <td>2022484408</td>\n",
       "      <td>3.32064</td>\n",
       "      <td>1</td>\n",
       "      <td>17</td>\n",
       "      <td>32</td>\n",
       "      <td>4</td>\n",
       "      <td>12</td>\n",
       "      <td>7</td>\n",
       "      <td>21</td>\n",
       "      <td>101.600000</td>\n",
       "    </tr>\n",
       "    <tr>\n",
       "      <th>1</th>\n",
       "      <td>2022484408</td>\n",
       "      <td>3.94326</td>\n",
       "      <td>1</td>\n",
       "      <td>9</td>\n",
       "      <td>38</td>\n",
       "      <td>4</td>\n",
       "      <td>12</td>\n",
       "      <td>7</td>\n",
       "      <td>22</td>\n",
       "      <td>87.888889</td>\n",
       "    </tr>\n",
       "  </tbody>\n",
       "</table>\n",
       "</div>"
      ],
      "text/plain": [
       "           Id  Calories  Intensity  Steps  METs  Month  Day  Hour  Min  \\\n",
       "0  2022484408   3.32064          1     17    32      4   12     7   21   \n",
       "1  2022484408   3.94326          1      9    38      4   12     7   22   \n",
       "\n",
       "       meanHR  \n",
       "0  101.600000  \n",
       "1   87.888889  "
      ]
     },
     "execution_count": 86,
     "metadata": {},
     "output_type": "execute_result"
    }
   ],
   "source": [
    "min_HR_inner.head(2)"
   ]
  },
  {
   "cell_type": "code",
   "execution_count": 87,
   "id": "8a5be21d",
   "metadata": {},
   "outputs": [
    {
     "name": "stdout",
     "output_type": "stream",
     "text": [
      "Missing values:  0\n",
      "No. of duplicates:  0\n"
     ]
    }
   ],
   "source": [
    "print(\"Missing values: \",min_HR_inner.isnull().values.sum())\n",
    "print(\"No. of duplicates: \",len(min_HR_inner[min_HR_inner.duplicated()]))"
   ]
  },
  {
   "cell_type": "code",
   "execution_count": 88,
   "id": "ff2de944",
   "metadata": {},
   "outputs": [],
   "source": [
    "# Create clean merged csv files\n",
    "min_HR_inner.to_csv(\"clean_data/min_HR_inner.csv\")\n",
    "HR_groupby.to_csv(\"clean_data/HR_groupby.csv\")"
   ]
  },
  {
   "cell_type": "markdown",
   "id": "f6d301e7",
   "metadata": {},
   "source": [
    "================================================================================================"
   ]
  },
  {
   "cell_type": "code",
   "execution_count": 89,
   "id": "ecd6bb0b",
   "metadata": {},
   "outputs": [
    {
     "data": {
      "text/html": [
       "<div>\n",
       "<style scoped>\n",
       "    .dataframe tbody tr th:only-of-type {\n",
       "        vertical-align: middle;\n",
       "    }\n",
       "\n",
       "    .dataframe tbody tr th {\n",
       "        vertical-align: top;\n",
       "    }\n",
       "\n",
       "    .dataframe thead th {\n",
       "        text-align: right;\n",
       "    }\n",
       "</style>\n",
       "<table border=\"1\" class=\"dataframe\">\n",
       "  <thead>\n",
       "    <tr style=\"text-align: right;\">\n",
       "      <th></th>\n",
       "      <th>Id</th>\n",
       "      <th>date</th>\n",
       "      <th>value</th>\n",
       "      <th>logId</th>\n",
       "    </tr>\n",
       "  </thead>\n",
       "  <tbody>\n",
       "    <tr>\n",
       "      <th>0</th>\n",
       "      <td>1503960366</td>\n",
       "      <td>4/12/2016 2:47:30 AM</td>\n",
       "      <td>3</td>\n",
       "      <td>11380564589</td>\n",
       "    </tr>\n",
       "    <tr>\n",
       "      <th>1</th>\n",
       "      <td>1503960366</td>\n",
       "      <td>4/12/2016 2:48:30 AM</td>\n",
       "      <td>2</td>\n",
       "      <td>11380564589</td>\n",
       "    </tr>\n",
       "  </tbody>\n",
       "</table>\n",
       "</div>"
      ],
      "text/plain": [
       "           Id                  date  value        logId\n",
       "0  1503960366  4/12/2016 2:47:30 AM      3  11380564589\n",
       "1  1503960366  4/12/2016 2:48:30 AM      2  11380564589"
      ]
     },
     "execution_count": 89,
     "metadata": {},
     "output_type": "execute_result"
    }
   ],
   "source": [
    "# Import sleep state\n",
    "minSleep = pd.read_csv(\"data\\minuteSleep_merged.csv\")\n",
    "minSleep.head(2)"
   ]
  },
  {
   "cell_type": "code",
   "execution_count": 90,
   "id": "c797828d",
   "metadata": {},
   "outputs": [
    {
     "name": "stdout",
     "output_type": "stream",
     "text": [
      "<class 'pandas.core.frame.DataFrame'>\n",
      "RangeIndex: 188521 entries, 0 to 188520\n",
      "Data columns (total 4 columns):\n",
      " #   Column  Non-Null Count   Dtype \n",
      "---  ------  --------------   ----- \n",
      " 0   Id      188521 non-null  int64 \n",
      " 1   date    188521 non-null  object\n",
      " 2   value   188521 non-null  int64 \n",
      " 3   logId   188521 non-null  int64 \n",
      "dtypes: int64(3), object(1)\n",
      "memory usage: 5.8+ MB\n"
     ]
    }
   ],
   "source": [
    "minSleep.info()"
   ]
  },
  {
   "cell_type": "markdown",
   "id": "3b5004ea",
   "metadata": {},
   "source": [
    "***Note***\n",
    "\n",
    "Value indicating the sleep state.\n",
    "1 = asleep, 2 = restless, 3 = awake"
   ]
  },
  {
   "cell_type": "code",
   "execution_count": 91,
   "id": "419a495d",
   "metadata": {},
   "outputs": [],
   "source": [
    "# Change to date format\n",
    "minSleep[\"date\"] = pd.to_datetime(minSleep[\"date\"])"
   ]
  },
  {
   "cell_type": "code",
   "execution_count": 92,
   "id": "6156f198",
   "metadata": {},
   "outputs": [
    {
     "name": "stdout",
     "output_type": "stream",
     "text": [
      "Missing values:  0\n",
      "No. of duplicates:  543\n"
     ]
    }
   ],
   "source": [
    "print(\"Missing values: \",minSleep.isnull().values.sum())\n",
    "print(\"No. of duplicates: \",len(minSleep[minSleep.duplicated()]))"
   ]
  },
  {
   "cell_type": "code",
   "execution_count": 93,
   "id": "baf2be96",
   "metadata": {},
   "outputs": [
    {
     "name": "stdout",
     "output_type": "stream",
     "text": [
      "minuteSleep has 24 unique Ids\n",
      "minuteSleep has 49773 observations\n",
      "For minuteSleep dates range from 2016-04-11 20:48:00 and 2016-05-12 09:56:00\n"
     ]
    }
   ],
   "source": [
    "# Summary\n",
    "print(\"minuteSleep has\", len(minSleep['Id'].unique()), \"unique Ids\")\n",
    "print(\"minuteSleep has\", len(minSleep[\"date\"].unique()), \"observations\")\n",
    "print(\"For minuteSleep dates range from\", minSleep[\"date\"].min(), \"and\", minSleep[\"date\"].max())"
   ]
  },
  {
   "cell_type": "markdown",
   "id": "ca0d6e18",
   "metadata": {},
   "source": [
    "**Data Observations:**\n",
    "- Time is an object - changed to a date object.\n",
    "- There are 24 unique Ids \n",
    "- There are no missing values\n",
    "- Date ranges from 11th April to 12th May (2016)\n",
    "- There are 49773 observations within the date range for each Id\n",
    "- There are 543 duplicates\n",
    "\n",
    "**Next:**\n",
    "- Remove duplicates\n",
    "- Remove logld column. Does not add anything to analysis insights\n",
    "- Rename \"value\" to more descriptive name.\n",
    "- merge the data with the previous minute merge file\n",
    "- Generate cleaned & merged csv file\n"
   ]
  },
  {
   "cell_type": "code",
   "execution_count": 94,
   "id": "b6b90434",
   "metadata": {},
   "outputs": [],
   "source": [
    "# Remove duplicate rows\n",
    "minSleep.drop_duplicates(inplace=True)"
   ]
  },
  {
   "cell_type": "code",
   "execution_count": 95,
   "id": "77964d4b",
   "metadata": {},
   "outputs": [],
   "source": [
    "# Remove logld column\n",
    "minSleep.drop('logId', axis=1, inplace=True)"
   ]
  },
  {
   "cell_type": "code",
   "execution_count": 96,
   "id": "1270469c",
   "metadata": {},
   "outputs": [
    {
     "name": "stdout",
     "output_type": "stream",
     "text": [
      "No. of duplicates:  0\n"
     ]
    }
   ],
   "source": [
    "# Check duplicates removed\n",
    "print(\"No. of duplicates: \",len(minSleep[minSleep.duplicated()]))"
   ]
  },
  {
   "cell_type": "code",
   "execution_count": 97,
   "id": "93d83de0",
   "metadata": {},
   "outputs": [],
   "source": [
    "# # Rename column \"Value\" to \"State\"\n",
    "minSleep.rename(columns={'value':'State'}, inplace=True)"
   ]
  },
  {
   "cell_type": "code",
   "execution_count": 98,
   "id": "8f618806",
   "metadata": {},
   "outputs": [],
   "source": [
    "# Set date to index\n",
    "minSleep.set_index('date',inplace=True)"
   ]
  },
  {
   "cell_type": "code",
   "execution_count": 99,
   "id": "5c6c108e",
   "metadata": {},
   "outputs": [],
   "source": [
    "# break the date down into it's individual date components (Month,Day,Hour,Min)\n",
    "minSleep['Month'] = minSleep.index.month\n",
    "minSleep[\"Day\"] = minSleep.index.day\n",
    "minSleep[\"Hour\"] = minSleep.index.hour\n",
    "minSleep[\"Min\"] = minSleep.index.minute"
   ]
  },
  {
   "cell_type": "code",
   "execution_count": 100,
   "id": "81db3539",
   "metadata": {},
   "outputs": [
    {
     "data": {
      "text/html": [
       "<div>\n",
       "<style scoped>\n",
       "    .dataframe tbody tr th:only-of-type {\n",
       "        vertical-align: middle;\n",
       "    }\n",
       "\n",
       "    .dataframe tbody tr th {\n",
       "        vertical-align: top;\n",
       "    }\n",
       "\n",
       "    .dataframe thead th {\n",
       "        text-align: right;\n",
       "    }\n",
       "</style>\n",
       "<table border=\"1\" class=\"dataframe\">\n",
       "  <thead>\n",
       "    <tr style=\"text-align: right;\">\n",
       "      <th></th>\n",
       "      <th>Id</th>\n",
       "      <th>Calories</th>\n",
       "      <th>Intensity</th>\n",
       "      <th>Steps</th>\n",
       "      <th>METs</th>\n",
       "      <th>Month</th>\n",
       "      <th>Day</th>\n",
       "      <th>Hour</th>\n",
       "      <th>Min</th>\n",
       "    </tr>\n",
       "    <tr>\n",
       "      <th>ActivityMinute</th>\n",
       "      <th></th>\n",
       "      <th></th>\n",
       "      <th></th>\n",
       "      <th></th>\n",
       "      <th></th>\n",
       "      <th></th>\n",
       "      <th></th>\n",
       "      <th></th>\n",
       "      <th></th>\n",
       "    </tr>\n",
       "  </thead>\n",
       "  <tbody>\n",
       "    <tr>\n",
       "      <th>2016-04-12 00:00:00</th>\n",
       "      <td>1503960366</td>\n",
       "      <td>0.7865</td>\n",
       "      <td>0</td>\n",
       "      <td>0</td>\n",
       "      <td>10</td>\n",
       "      <td>4</td>\n",
       "      <td>12</td>\n",
       "      <td>0</td>\n",
       "      <td>0</td>\n",
       "    </tr>\n",
       "    <tr>\n",
       "      <th>2016-04-12 00:01:00</th>\n",
       "      <td>1503960366</td>\n",
       "      <td>0.7865</td>\n",
       "      <td>0</td>\n",
       "      <td>0</td>\n",
       "      <td>10</td>\n",
       "      <td>4</td>\n",
       "      <td>12</td>\n",
       "      <td>0</td>\n",
       "      <td>1</td>\n",
       "    </tr>\n",
       "  </tbody>\n",
       "</table>\n",
       "</div>"
      ],
      "text/plain": [
       "                             Id  Calories  Intensity  Steps  METs  Month  Day  \\\n",
       "ActivityMinute                                                                  \n",
       "2016-04-12 00:00:00  1503960366    0.7865          0      0    10      4   12   \n",
       "2016-04-12 00:01:00  1503960366    0.7865          0      0    10      4   12   \n",
       "\n",
       "                     Hour  Min  \n",
       "ActivityMinute                  \n",
       "2016-04-12 00:00:00     0    0  \n",
       "2016-04-12 00:01:00     0    1  "
      ]
     },
     "execution_count": 100,
     "metadata": {},
     "output_type": "execute_result"
    }
   ],
   "source": [
    "min_merge.head(2)"
   ]
  },
  {
   "cell_type": "code",
   "execution_count": 101,
   "id": "0719c067",
   "metadata": {},
   "outputs": [],
   "source": [
    "# reset the index before merging\n",
    "min_merge = min_merge.reset_index(level=0)"
   ]
  },
  {
   "cell_type": "code",
   "execution_count": 102,
   "id": "5458000a",
   "metadata": {},
   "outputs": [
    {
     "data": {
      "text/html": [
       "<div>\n",
       "<style scoped>\n",
       "    .dataframe tbody tr th:only-of-type {\n",
       "        vertical-align: middle;\n",
       "    }\n",
       "\n",
       "    .dataframe tbody tr th {\n",
       "        vertical-align: top;\n",
       "    }\n",
       "\n",
       "    .dataframe thead th {\n",
       "        text-align: right;\n",
       "    }\n",
       "</style>\n",
       "<table border=\"1\" class=\"dataframe\">\n",
       "  <thead>\n",
       "    <tr style=\"text-align: right;\">\n",
       "      <th></th>\n",
       "      <th>ActivityMinute</th>\n",
       "      <th>Id</th>\n",
       "      <th>Calories</th>\n",
       "      <th>Intensity</th>\n",
       "      <th>Steps</th>\n",
       "      <th>METs</th>\n",
       "      <th>Month</th>\n",
       "      <th>Day</th>\n",
       "      <th>Hour</th>\n",
       "      <th>Min</th>\n",
       "    </tr>\n",
       "  </thead>\n",
       "  <tbody>\n",
       "    <tr>\n",
       "      <th>0</th>\n",
       "      <td>2016-04-12 00:00:00</td>\n",
       "      <td>1503960366</td>\n",
       "      <td>0.7865</td>\n",
       "      <td>0</td>\n",
       "      <td>0</td>\n",
       "      <td>10</td>\n",
       "      <td>4</td>\n",
       "      <td>12</td>\n",
       "      <td>0</td>\n",
       "      <td>0</td>\n",
       "    </tr>\n",
       "    <tr>\n",
       "      <th>1</th>\n",
       "      <td>2016-04-12 00:01:00</td>\n",
       "      <td>1503960366</td>\n",
       "      <td>0.7865</td>\n",
       "      <td>0</td>\n",
       "      <td>0</td>\n",
       "      <td>10</td>\n",
       "      <td>4</td>\n",
       "      <td>12</td>\n",
       "      <td>0</td>\n",
       "      <td>1</td>\n",
       "    </tr>\n",
       "  </tbody>\n",
       "</table>\n",
       "</div>"
      ],
      "text/plain": [
       "       ActivityMinute          Id  Calories  Intensity  Steps  METs  Month  \\\n",
       "0 2016-04-12 00:00:00  1503960366    0.7865          0      0    10      4   \n",
       "1 2016-04-12 00:01:00  1503960366    0.7865          0      0    10      4   \n",
       "\n",
       "   Day  Hour  Min  \n",
       "0   12     0    0  \n",
       "1   12     0    1  "
      ]
     },
     "execution_count": 102,
     "metadata": {},
     "output_type": "execute_result"
    }
   ],
   "source": [
    "min_merge.head(2)"
   ]
  },
  {
   "cell_type": "code",
   "execution_count": 103,
   "id": "af5a1f9e",
   "metadata": {},
   "outputs": [
    {
     "data": {
      "text/html": [
       "<div>\n",
       "<style scoped>\n",
       "    .dataframe tbody tr th:only-of-type {\n",
       "        vertical-align: middle;\n",
       "    }\n",
       "\n",
       "    .dataframe tbody tr th {\n",
       "        vertical-align: top;\n",
       "    }\n",
       "\n",
       "    .dataframe thead th {\n",
       "        text-align: right;\n",
       "    }\n",
       "</style>\n",
       "<table border=\"1\" class=\"dataframe\">\n",
       "  <thead>\n",
       "    <tr style=\"text-align: right;\">\n",
       "      <th></th>\n",
       "      <th>Id</th>\n",
       "      <th>State</th>\n",
       "      <th>Month</th>\n",
       "      <th>Day</th>\n",
       "      <th>Hour</th>\n",
       "      <th>Min</th>\n",
       "    </tr>\n",
       "    <tr>\n",
       "      <th>date</th>\n",
       "      <th></th>\n",
       "      <th></th>\n",
       "      <th></th>\n",
       "      <th></th>\n",
       "      <th></th>\n",
       "      <th></th>\n",
       "    </tr>\n",
       "  </thead>\n",
       "  <tbody>\n",
       "    <tr>\n",
       "      <th>2016-04-12 02:47:30</th>\n",
       "      <td>1503960366</td>\n",
       "      <td>3</td>\n",
       "      <td>4</td>\n",
       "      <td>12</td>\n",
       "      <td>2</td>\n",
       "      <td>47</td>\n",
       "    </tr>\n",
       "    <tr>\n",
       "      <th>2016-04-12 02:48:30</th>\n",
       "      <td>1503960366</td>\n",
       "      <td>2</td>\n",
       "      <td>4</td>\n",
       "      <td>12</td>\n",
       "      <td>2</td>\n",
       "      <td>48</td>\n",
       "    </tr>\n",
       "  </tbody>\n",
       "</table>\n",
       "</div>"
      ],
      "text/plain": [
       "                             Id  State  Month  Day  Hour  Min\n",
       "date                                                         \n",
       "2016-04-12 02:47:30  1503960366      3      4   12     2   47\n",
       "2016-04-12 02:48:30  1503960366      2      4   12     2   48"
      ]
     },
     "execution_count": 103,
     "metadata": {},
     "output_type": "execute_result"
    }
   ],
   "source": [
    "minSleep.head(2)"
   ]
  },
  {
   "cell_type": "code",
   "execution_count": 104,
   "id": "1488a8ef",
   "metadata": {},
   "outputs": [],
   "source": [
    "# merge min_merge and minSleep on data Id, Month, Day, Hour & Minute\n",
    "min_sleep_inner = pd.merge(min_merge, minSleep, how='inner', on=['Id', 'Month', 'Day', 'Hour', 'Min'])"
   ]
  },
  {
   "cell_type": "code",
   "execution_count": 105,
   "id": "cf32bff4",
   "metadata": {},
   "outputs": [
    {
     "data": {
      "text/html": [
       "<div>\n",
       "<style scoped>\n",
       "    .dataframe tbody tr th:only-of-type {\n",
       "        vertical-align: middle;\n",
       "    }\n",
       "\n",
       "    .dataframe tbody tr th {\n",
       "        vertical-align: top;\n",
       "    }\n",
       "\n",
       "    .dataframe thead th {\n",
       "        text-align: right;\n",
       "    }\n",
       "</style>\n",
       "<table border=\"1\" class=\"dataframe\">\n",
       "  <thead>\n",
       "    <tr style=\"text-align: right;\">\n",
       "      <th></th>\n",
       "      <th>ActivityMinute</th>\n",
       "      <th>Id</th>\n",
       "      <th>Calories</th>\n",
       "      <th>Intensity</th>\n",
       "      <th>Steps</th>\n",
       "      <th>METs</th>\n",
       "      <th>Month</th>\n",
       "      <th>Day</th>\n",
       "      <th>Hour</th>\n",
       "      <th>Min</th>\n",
       "      <th>State</th>\n",
       "    </tr>\n",
       "  </thead>\n",
       "  <tbody>\n",
       "    <tr>\n",
       "      <th>0</th>\n",
       "      <td>2016-04-12 02:47:00</td>\n",
       "      <td>1503960366</td>\n",
       "      <td>0.9438</td>\n",
       "      <td>0</td>\n",
       "      <td>0</td>\n",
       "      <td>12</td>\n",
       "      <td>4</td>\n",
       "      <td>12</td>\n",
       "      <td>2</td>\n",
       "      <td>47</td>\n",
       "      <td>3</td>\n",
       "    </tr>\n",
       "    <tr>\n",
       "      <th>1</th>\n",
       "      <td>2016-04-12 02:48:00</td>\n",
       "      <td>1503960366</td>\n",
       "      <td>0.7865</td>\n",
       "      <td>0</td>\n",
       "      <td>0</td>\n",
       "      <td>10</td>\n",
       "      <td>4</td>\n",
       "      <td>12</td>\n",
       "      <td>2</td>\n",
       "      <td>48</td>\n",
       "      <td>2</td>\n",
       "    </tr>\n",
       "    <tr>\n",
       "      <th>2</th>\n",
       "      <td>2016-04-12 02:49:00</td>\n",
       "      <td>1503960366</td>\n",
       "      <td>0.7865</td>\n",
       "      <td>0</td>\n",
       "      <td>0</td>\n",
       "      <td>10</td>\n",
       "      <td>4</td>\n",
       "      <td>12</td>\n",
       "      <td>2</td>\n",
       "      <td>49</td>\n",
       "      <td>1</td>\n",
       "    </tr>\n",
       "    <tr>\n",
       "      <th>3</th>\n",
       "      <td>2016-04-12 02:50:00</td>\n",
       "      <td>1503960366</td>\n",
       "      <td>0.7865</td>\n",
       "      <td>0</td>\n",
       "      <td>0</td>\n",
       "      <td>10</td>\n",
       "      <td>4</td>\n",
       "      <td>12</td>\n",
       "      <td>2</td>\n",
       "      <td>50</td>\n",
       "      <td>1</td>\n",
       "    </tr>\n",
       "    <tr>\n",
       "      <th>4</th>\n",
       "      <td>2016-04-12 02:51:00</td>\n",
       "      <td>1503960366</td>\n",
       "      <td>0.7865</td>\n",
       "      <td>0</td>\n",
       "      <td>0</td>\n",
       "      <td>10</td>\n",
       "      <td>4</td>\n",
       "      <td>12</td>\n",
       "      <td>2</td>\n",
       "      <td>51</td>\n",
       "      <td>1</td>\n",
       "    </tr>\n",
       "  </tbody>\n",
       "</table>\n",
       "</div>"
      ],
      "text/plain": [
       "       ActivityMinute          Id  Calories  Intensity  Steps  METs  Month  \\\n",
       "0 2016-04-12 02:47:00  1503960366    0.9438          0      0    12      4   \n",
       "1 2016-04-12 02:48:00  1503960366    0.7865          0      0    10      4   \n",
       "2 2016-04-12 02:49:00  1503960366    0.7865          0      0    10      4   \n",
       "3 2016-04-12 02:50:00  1503960366    0.7865          0      0    10      4   \n",
       "4 2016-04-12 02:51:00  1503960366    0.7865          0      0    10      4   \n",
       "\n",
       "   Day  Hour  Min  State  \n",
       "0   12     2   47      3  \n",
       "1   12     2   48      2  \n",
       "2   12     2   49      1  \n",
       "3   12     2   50      1  \n",
       "4   12     2   51      1  "
      ]
     },
     "execution_count": 105,
     "metadata": {},
     "output_type": "execute_result"
    }
   ],
   "source": [
    "min_sleep_inner.head()"
   ]
  },
  {
   "cell_type": "code",
   "execution_count": 106,
   "id": "5bf47c2e",
   "metadata": {},
   "outputs": [
    {
     "data": {
      "application/javascript": [
       "\n",
       "        if (window._pyforest_update_imports_cell) { window._pyforest_update_imports_cell('import matplotlib.pyplot as plt'); }\n",
       "    "
      ],
      "text/plain": [
       "<IPython.core.display.Javascript object>"
      ]
     },
     "metadata": {},
     "output_type": "display_data"
    },
    {
     "data": {
      "text/plain": [
       "<matplotlib.axes._subplots.AxesSubplot at 0x23dff9cd668>"
      ]
     },
     "execution_count": 106,
     "metadata": {},
     "output_type": "execute_result"
    },
    {
     "data": {
      "image/png": "[encoded data removed]",
      "text/plain": [
       "<Figure size 1152x360 with 1 Axes>"
      ]
     },
     "metadata": {
      "needs_background": "light"
     },
     "output_type": "display_data"
    }
   ],
   "source": [
    "# Check for NAs\n",
    "plt.figure(figsize=(16, 5))\n",
    "sns.heatmap(min_sleep_inner.isnull(),yticklabels=False,cbar=False,cmap='viridis')"
   ]
  },
  {
   "cell_type": "code",
   "execution_count": 107,
   "id": "dd66deb4",
   "metadata": {},
   "outputs": [],
   "source": [
    "# Create clean merged csv file\n",
    "min_sleep_inner.to_csv(\"clean_data/min_sleep_inner.csv\")\n",
    "minSleep.to_csv(\"clean_data/minSleep.csv\")"
   ]
  },
  {
   "cell_type": "markdown",
   "id": "027df5a9",
   "metadata": {},
   "source": [
    "***Merge min_merge, minSleep and HR left***"
   ]
  },
  {
   "cell_type": "code",
   "execution_count": 108,
   "id": "7c6d3d9d",
   "metadata": {},
   "outputs": [],
   "source": [
    "# merge min_merge_inner and HR_groupby on data Id, Month, Day, Hour & Minute\n",
    "min_sleep_HR_inner = pd.merge(min_sleep_inner, HR_groupby, how='inner', on=['Id', 'Month', 'Day', 'Hour', 'Min'])"
   ]
  },
  {
   "cell_type": "code",
   "execution_count": 109,
   "id": "69b89500",
   "metadata": {},
   "outputs": [
    {
     "data": {
      "text/html": [
       "<div>\n",
       "<style scoped>\n",
       "    .dataframe tbody tr th:only-of-type {\n",
       "        vertical-align: middle;\n",
       "    }\n",
       "\n",
       "    .dataframe tbody tr th {\n",
       "        vertical-align: top;\n",
       "    }\n",
       "\n",
       "    .dataframe thead th {\n",
       "        text-align: right;\n",
       "    }\n",
       "</style>\n",
       "<table border=\"1\" class=\"dataframe\">\n",
       "  <thead>\n",
       "    <tr style=\"text-align: right;\">\n",
       "      <th></th>\n",
       "      <th>ActivityMinute</th>\n",
       "      <th>Id</th>\n",
       "      <th>Calories</th>\n",
       "      <th>Intensity</th>\n",
       "      <th>Steps</th>\n",
       "      <th>METs</th>\n",
       "      <th>Month</th>\n",
       "      <th>Day</th>\n",
       "      <th>Hour</th>\n",
       "      <th>Min</th>\n",
       "      <th>State</th>\n",
       "      <th>meanHR</th>\n",
       "    </tr>\n",
       "  </thead>\n",
       "  <tbody>\n",
       "    <tr>\n",
       "      <th>0</th>\n",
       "      <td>2016-04-12 22:05:00</td>\n",
       "      <td>2347167796</td>\n",
       "      <td>0.94060</td>\n",
       "      <td>0</td>\n",
       "      <td>0</td>\n",
       "      <td>10</td>\n",
       "      <td>4</td>\n",
       "      <td>12</td>\n",
       "      <td>22</td>\n",
       "      <td>5</td>\n",
       "      <td>3</td>\n",
       "      <td>76.666667</td>\n",
       "    </tr>\n",
       "    <tr>\n",
       "      <th>1</th>\n",
       "      <td>2016-04-12 22:06:00</td>\n",
       "      <td>2347167796</td>\n",
       "      <td>1.03466</td>\n",
       "      <td>0</td>\n",
       "      <td>0</td>\n",
       "      <td>11</td>\n",
       "      <td>4</td>\n",
       "      <td>12</td>\n",
       "      <td>22</td>\n",
       "      <td>6</td>\n",
       "      <td>3</td>\n",
       "      <td>76.666667</td>\n",
       "    </tr>\n",
       "  </tbody>\n",
       "</table>\n",
       "</div>"
      ],
      "text/plain": [
       "       ActivityMinute          Id  Calories  Intensity  Steps  METs  Month  \\\n",
       "0 2016-04-12 22:05:00  2347167796   0.94060          0      0    10      4   \n",
       "1 2016-04-12 22:06:00  2347167796   1.03466          0      0    11      4   \n",
       "\n",
       "   Day  Hour  Min  State     meanHR  \n",
       "0   12    22    5      3  76.666667  \n",
       "1   12    22    6      3  76.666667  "
      ]
     },
     "execution_count": 109,
     "metadata": {},
     "output_type": "execute_result"
    }
   ],
   "source": [
    "min_sleep_HR_inner.head(2)"
   ]
  },
  {
   "cell_type": "code",
   "execution_count": 110,
   "id": "dd731667",
   "metadata": {
    "scrolled": true
   },
   "outputs": [
    {
     "data": {
      "application/javascript": [
       "\n",
       "        if (window._pyforest_update_imports_cell) { window._pyforest_update_imports_cell('import matplotlib.pyplot as plt'); }\n",
       "    "
      ],
      "text/plain": [
       "<IPython.core.display.Javascript object>"
      ]
     },
     "metadata": {},
     "output_type": "display_data"
    },
    {
     "data": {
      "text/plain": [
       "<matplotlib.axes._subplots.AxesSubplot at 0x23d82d63c50>"
      ]
     },
     "execution_count": 110,
     "metadata": {},
     "output_type": "execute_result"
    },
    {
     "data": {
      "image/png": "[encoded data removed]",
      "text/plain": [
       "<Figure size 1152x360 with 1 Axes>"
      ]
     },
     "metadata": {
      "needs_background": "light"
     },
     "output_type": "display_data"
    }
   ],
   "source": [
    "# Check for NAs\n",
    "plt.figure(figsize=(16, 5))\n",
    "sns.heatmap(min_sleep_HR_inner.isnull(),yticklabels=False,cbar=False,cmap='viridis')"
   ]
  },
  {
   "cell_type": "code",
   "execution_count": 111,
   "id": "ba9c4b5d",
   "metadata": {},
   "outputs": [],
   "source": [
    "# Save the file\n",
    "min_sleep_HR_inner.to_csv(\"clean_data/min_sleep_HR_inner.csv\")"
   ]
  },
  {
   "attachments": {
    "transformations.jpg": {
     "image/jpeg": "[encoded data removed]"
    }
   },
   "cell_type": "markdown",
   "id": "35021659",
   "metadata": {},
   "source": [
    "#### Summary of Transformations\n",
    "![transformations.jpg](attachment:transformations.jpg)"
   ]
  }
 ],
 "metadata": {
  "kernelspec": {
   "display_name": "Python 3",
   "language": "python",
   "name": "python3"
  },
  "language_info": {
   "codemirror_mode": {
    "name": "ipython",
    "version": 3
   },
   "file_extension": ".py",
   "mimetype": "text/x-python",
   "name": "python",
   "nbconvert_exporter": "python",
   "pygments_lexer": "ipython3",
   "version": "3.7.2"
  }
 },
 "nbformat": 4,
 "nbformat_minor": 5
}
